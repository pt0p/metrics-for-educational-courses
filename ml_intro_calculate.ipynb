{
 "cells": [
  {
   "cell_type": "code",
   "execution_count": 1,
   "id": "3e9557d8-4216-41b7-b074-fbce417f37dc",
   "metadata": {},
   "outputs": [],
   "source": [
    "import pandas as pd\n",
    "import numpy as np\n",
    "import os"
   ]
  },
  {
   "cell_type": "code",
   "execution_count": 2,
   "id": "bf5cedbd-6791-43e3-b99c-0977b9435498",
   "metadata": {},
   "outputs": [],
   "source": [
    "course_dir = \"data/ml_intro/\"\n",
    "\n",
    "course = pd.read_csv(course_dir + \"course.csv\")\n",
    "course_element = pd.read_csv(course_dir + \"course_element.csv\")\n",
    "course_graph = pd.read_csv(course_dir + \"course_graph.csv\")\n",
    "course_module = pd.read_csv(course_dir + \"course_module.csv\")\n",
    "solution_log = pd.read_csv(course_dir + \"solution_log.csv\")\n",
    "user_course_progress = pd.read_csv(course_dir + \"user_course_progress.csv\")\n",
    "user_element_progress = pd.read_csv(course_dir + \"user_element_progress.csv\")\n",
    "user_module_progress = pd.read_csv(course_dir + \"user_module_progress.csv\")"
   ]
  },
  {
   "cell_type": "code",
   "execution_count": 3,
   "id": "cb9aea22-8ae2-4adc-963a-ae482162703f",
   "metadata": {},
   "outputs": [],
   "source": [
    "from metrics_implementation import MeanTriesCount, TriesStd, SkipsPercentage, GuessedPercentage, LostPercentage, SolvedPercentage\n",
    "\n",
    "mtc = MeanTriesCount(metric_name='mean_tries_count', data_tables={'user_element_progress': user_element_progress}, \n",
    "                    parameters={'outlier': 65}, threshold=4)\n",
    "std = TriesStd(metric_name='tries_std', data_tables={'user_element_progress': user_element_progress}, \n",
    "                    parameters={'outlier': 65}, threshold=5)\n",
    "skips = SkipsPercentage(metric_name='skips_percentage', data_tables={'user_element_progress': user_element_progress, 'course_element': course_element}, \n",
    "                    parameters={}, threshold=0.2)\n",
    "lost = LostPercentage(metric_name='lost_percentage', data_tables={'user_element_progress': user_element_progress, 'course_element': course_element}, \n",
    "                    parameters={}, threshold=0.15)\n",
    "guess = GuessedPercentage(metric_name='guessed_percentage', data_tables={'user_element_progress': user_element_progress, 'solution_log': solution_log}, \n",
    "                    parameters={}, threshold=0.2)\n",
    "solved = SolvedPercentage('solved_percentage', threshold=0.88, parameters={},data_tables={'user_element_progress': user_element_progress})"
   ]
  },
  {
   "cell_type": "code",
   "execution_count": 4,
   "id": "5ee9bb40-5fba-45b1-a150-044bfabc27de",
   "metadata": {},
   "outputs": [],
   "source": [
    "data_tables = {\n",
    "    'course': course,\n",
    "    'course_module': course_module,\n",
    "    'course_element': course_element,\n",
    "    'course_graph': course_graph,\n",
    "    'solution_log': solution_log,\n",
    "    'user_course_progress': user_course_progress,\n",
    "    'user_element_progress': user_element_progress,\n",
    "    'user_module_progress': user_module_progress\n",
    "}"
   ]
  },
  {
   "cell_type": "code",
   "execution_count": 5,
   "id": "e79bcffd-0c86-4e37-872d-6423ac4a80c7",
   "metadata": {},
   "outputs": [],
   "source": [
    "from other_metrics import N_tries, diff_tries, percentage_tries, TaskTime, TaskTimeDeviation\n",
    "\n",
    "\n",
    "\n",
    "median_time_metric = TaskTime(metric_name='median_time', data_tables=data_tables, parameters={'metric' : 'median'}, threshold=1)\n",
    "mean_time_metric = TaskTime(metric_name='mean_time', data_tables=data_tables, parameters={'metric' : 'mean'}, threshold=7.5)\n",
    "median_dev_metric = TaskTimeDeviation(metric_name='median_dev', data_tables=data_tables, parameters={'metric' : 'median'}, threshold=1)\n",
    "mean_dev_metric = TaskTimeDeviation(metric_name='mean_dev', data_tables=data_tables, parameters={'metric' : 'mean'}, threshold=7.5)\n",
    "\n",
    "N_tries_metric = # ...\n",
    "diff_tries_metric = # ...\n",
    "percentage_tries_metric = # ..."
   ]
  },
  {
   "cell_type": "markdown",
   "id": "3ee8b316-caac-46fd-96db-567c2fd346d6",
   "metadata": {},
   "source": [
    "Все метрики должны считаться при `course_id=None` - это значит, что если задача входит в несколько запусков курса, то данные по запускам усредняются."
   ]
  },
  {
   "cell_type": "code",
   "execution_count": 6,
   "id": "eb75bf8e-4527-44fb-8755-6aa205941588",
   "metadata": {},
   "outputs": [
    {
     "name": "stderr",
     "output_type": "stream",
     "text": [
      "100%|████████████████████████████████| 328964/328964 [00:24<00:00, 13592.18it/s]\n"
     ]
    },
    {
     "ename": "TypeError",
     "evalue": "fromisoformat: argument must be str",
     "output_type": "error",
     "traceback": [
      "\u001b[0;31m---------------------------------------------------------------------------\u001b[0m",
      "\u001b[0;31mTypeError\u001b[0m                                 Traceback (most recent call last)",
      "Cell \u001b[0;32mIn[6], line 8\u001b[0m\n\u001b[1;32m      6\u001b[0m solved_percentage \u001b[38;5;241m=\u001b[39m solved\u001b[38;5;241m.\u001b[39mevaluate()\n\u001b[1;32m      7\u001b[0m \u001b[38;5;66;03m# median_time = median_time_metric.evaluate()\u001b[39;00m\n\u001b[0;32m----> 8\u001b[0m mean_time \u001b[38;5;241m=\u001b[39m mean_time_metric\u001b[38;5;241m.\u001b[39mevaluate()\n\u001b[1;32m      9\u001b[0m \u001b[38;5;66;03m# median_time_dev = median_dev_metric.evaluate()\u001b[39;00m\n\u001b[1;32m     10\u001b[0m \u001b[38;5;66;03m# mean_time_dev = mean_dev_metric.evaluate()\u001b[39;00m\n\u001b[1;32m     11\u001b[0m data_frames \u001b[38;5;241m=\u001b[39m [\n\u001b[1;32m     12\u001b[0m     mean_tries,\n\u001b[1;32m     13\u001b[0m     tries_std,\n\u001b[0;32m   (...)\u001b[0m\n\u001b[1;32m     18\u001b[0m     mean_time,\n\u001b[1;32m     19\u001b[0m ]\n",
      "File \u001b[0;32m~/study/sirius/metrics-for-educational-courses/other_metrics.py:175\u001b[0m, in \u001b[0;36mTaskTime.evaluate\u001b[0;34m(self, course_id)\u001b[0m\n\u001b[1;32m    173\u001b[0m user_element_progress \u001b[38;5;241m=\u001b[39m \u001b[38;5;28mself\u001b[39m\u001b[38;5;241m.\u001b[39mdata_tables[\u001b[38;5;124m\"\u001b[39m\u001b[38;5;124muser_element_progress\u001b[39m\u001b[38;5;124m\"\u001b[39m]\n\u001b[1;32m    174\u001b[0m solution_log \u001b[38;5;241m=\u001b[39m \u001b[38;5;28mself\u001b[39m\u001b[38;5;241m.\u001b[39mdata_tables[\u001b[38;5;124m\"\u001b[39m\u001b[38;5;124msolution_log\u001b[39m\u001b[38;5;124m\"\u001b[39m]\u001b[38;5;241m.\u001b[39mcopy()\n\u001b[0;32m--> 175\u001b[0m solution_log\u001b[38;5;241m.\u001b[39msubmission_time \u001b[38;5;241m=\u001b[39m solution_log\u001b[38;5;241m.\u001b[39msubmission_time\u001b[38;5;241m.\u001b[39mapply(\n\u001b[1;32m    176\u001b[0m     \u001b[38;5;28;01mlambda\u001b[39;00m x: datetime\u001b[38;5;241m.\u001b[39mfromisoformat(x)\n\u001b[1;32m    177\u001b[0m )\n\u001b[1;32m    178\u001b[0m \u001b[38;5;66;03m# Выбираю те записи, которые соответствуют данному курсу\u001b[39;00m\n\u001b[1;32m    179\u001b[0m \u001b[38;5;28;01mif\u001b[39;00m course_id \u001b[38;5;241m!=\u001b[39m \u001b[38;5;28;01mNone\u001b[39;00m:\n",
      "File \u001b[0;32m~/miniconda3/envs/myenv/lib/python3.11/site-packages/pandas/core/series.py:4764\u001b[0m, in \u001b[0;36mSeries.apply\u001b[0;34m(self, func, convert_dtype, args, by_row, **kwargs)\u001b[0m\n\u001b[1;32m   4629\u001b[0m \u001b[38;5;28;01mdef\u001b[39;00m \u001b[38;5;21mapply\u001b[39m(\n\u001b[1;32m   4630\u001b[0m     \u001b[38;5;28mself\u001b[39m,\n\u001b[1;32m   4631\u001b[0m     func: AggFuncType,\n\u001b[0;32m   (...)\u001b[0m\n\u001b[1;32m   4636\u001b[0m     \u001b[38;5;241m*\u001b[39m\u001b[38;5;241m*\u001b[39mkwargs,\n\u001b[1;32m   4637\u001b[0m ) \u001b[38;5;241m-\u001b[39m\u001b[38;5;241m>\u001b[39m DataFrame \u001b[38;5;241m|\u001b[39m Series:\n\u001b[1;32m   4638\u001b[0m \u001b[38;5;250m    \u001b[39m\u001b[38;5;124;03m\"\"\"\u001b[39;00m\n\u001b[1;32m   4639\u001b[0m \u001b[38;5;124;03m    Invoke function on values of Series.\u001b[39;00m\n\u001b[1;32m   4640\u001b[0m \n\u001b[0;32m   (...)\u001b[0m\n\u001b[1;32m   4755\u001b[0m \u001b[38;5;124;03m    dtype: float64\u001b[39;00m\n\u001b[1;32m   4756\u001b[0m \u001b[38;5;124;03m    \"\"\"\u001b[39;00m\n\u001b[1;32m   4757\u001b[0m     \u001b[38;5;28;01mreturn\u001b[39;00m SeriesApply(\n\u001b[1;32m   4758\u001b[0m         \u001b[38;5;28mself\u001b[39m,\n\u001b[1;32m   4759\u001b[0m         func,\n\u001b[1;32m   4760\u001b[0m         convert_dtype\u001b[38;5;241m=\u001b[39mconvert_dtype,\n\u001b[1;32m   4761\u001b[0m         by_row\u001b[38;5;241m=\u001b[39mby_row,\n\u001b[1;32m   4762\u001b[0m         args\u001b[38;5;241m=\u001b[39margs,\n\u001b[1;32m   4763\u001b[0m         kwargs\u001b[38;5;241m=\u001b[39mkwargs,\n\u001b[0;32m-> 4764\u001b[0m     )\u001b[38;5;241m.\u001b[39mapply()\n",
      "File \u001b[0;32m~/miniconda3/envs/myenv/lib/python3.11/site-packages/pandas/core/apply.py:1209\u001b[0m, in \u001b[0;36mSeriesApply.apply\u001b[0;34m(self)\u001b[0m\n\u001b[1;32m   1206\u001b[0m     \u001b[38;5;28;01mreturn\u001b[39;00m \u001b[38;5;28mself\u001b[39m\u001b[38;5;241m.\u001b[39mapply_compat()\n\u001b[1;32m   1208\u001b[0m \u001b[38;5;66;03m# self.func is Callable\u001b[39;00m\n\u001b[0;32m-> 1209\u001b[0m \u001b[38;5;28;01mreturn\u001b[39;00m \u001b[38;5;28mself\u001b[39m\u001b[38;5;241m.\u001b[39mapply_standard()\n",
      "File \u001b[0;32m~/miniconda3/envs/myenv/lib/python3.11/site-packages/pandas/core/apply.py:1289\u001b[0m, in \u001b[0;36mSeriesApply.apply_standard\u001b[0;34m(self)\u001b[0m\n\u001b[1;32m   1283\u001b[0m \u001b[38;5;66;03m# row-wise access\u001b[39;00m\n\u001b[1;32m   1284\u001b[0m \u001b[38;5;66;03m# apply doesn't have a `na_action` keyword and for backward compat reasons\u001b[39;00m\n\u001b[1;32m   1285\u001b[0m \u001b[38;5;66;03m# we need to give `na_action=\"ignore\"` for categorical data.\u001b[39;00m\n\u001b[1;32m   1286\u001b[0m \u001b[38;5;66;03m# TODO: remove the `na_action=\"ignore\"` when that default has been changed in\u001b[39;00m\n\u001b[1;32m   1287\u001b[0m \u001b[38;5;66;03m#  Categorical (GH51645).\u001b[39;00m\n\u001b[1;32m   1288\u001b[0m action \u001b[38;5;241m=\u001b[39m \u001b[38;5;124m\"\u001b[39m\u001b[38;5;124mignore\u001b[39m\u001b[38;5;124m\"\u001b[39m \u001b[38;5;28;01mif\u001b[39;00m \u001b[38;5;28misinstance\u001b[39m(obj\u001b[38;5;241m.\u001b[39mdtype, CategoricalDtype) \u001b[38;5;28;01melse\u001b[39;00m \u001b[38;5;28;01mNone\u001b[39;00m\n\u001b[0;32m-> 1289\u001b[0m mapped \u001b[38;5;241m=\u001b[39m obj\u001b[38;5;241m.\u001b[39m_map_values(\n\u001b[1;32m   1290\u001b[0m     mapper\u001b[38;5;241m=\u001b[39mcurried, na_action\u001b[38;5;241m=\u001b[39maction, convert\u001b[38;5;241m=\u001b[39m\u001b[38;5;28mself\u001b[39m\u001b[38;5;241m.\u001b[39mconvert_dtype\n\u001b[1;32m   1291\u001b[0m )\n\u001b[1;32m   1293\u001b[0m \u001b[38;5;28;01mif\u001b[39;00m \u001b[38;5;28mlen\u001b[39m(mapped) \u001b[38;5;129;01mand\u001b[39;00m \u001b[38;5;28misinstance\u001b[39m(mapped[\u001b[38;5;241m0\u001b[39m], ABCSeries):\n\u001b[1;32m   1294\u001b[0m     \u001b[38;5;66;03m# GH#43986 Need to do list(mapped) in order to get treated as nested\u001b[39;00m\n\u001b[1;32m   1295\u001b[0m     \u001b[38;5;66;03m#  See also GH#25959 regarding EA support\u001b[39;00m\n\u001b[1;32m   1296\u001b[0m     \u001b[38;5;28;01mreturn\u001b[39;00m obj\u001b[38;5;241m.\u001b[39m_constructor_expanddim(\u001b[38;5;28mlist\u001b[39m(mapped), index\u001b[38;5;241m=\u001b[39mobj\u001b[38;5;241m.\u001b[39mindex)\n",
      "File \u001b[0;32m~/miniconda3/envs/myenv/lib/python3.11/site-packages/pandas/core/base.py:919\u001b[0m, in \u001b[0;36mIndexOpsMixin._map_values\u001b[0;34m(self, mapper, na_action, convert)\u001b[0m\n\u001b[1;32m    916\u001b[0m arr \u001b[38;5;241m=\u001b[39m \u001b[38;5;28mself\u001b[39m\u001b[38;5;241m.\u001b[39m_values\n\u001b[1;32m    918\u001b[0m \u001b[38;5;28;01mif\u001b[39;00m \u001b[38;5;28misinstance\u001b[39m(arr, ExtensionArray):\n\u001b[0;32m--> 919\u001b[0m     \u001b[38;5;28;01mreturn\u001b[39;00m arr\u001b[38;5;241m.\u001b[39mmap(mapper, na_action\u001b[38;5;241m=\u001b[39mna_action)\n\u001b[1;32m    921\u001b[0m \u001b[38;5;28;01mreturn\u001b[39;00m algorithms\u001b[38;5;241m.\u001b[39mmap_array(arr, mapper, na_action\u001b[38;5;241m=\u001b[39mna_action, convert\u001b[38;5;241m=\u001b[39mconvert)\n",
      "File \u001b[0;32m~/miniconda3/envs/myenv/lib/python3.11/site-packages/pandas/core/arrays/_mixins.py:80\u001b[0m, in \u001b[0;36mravel_compat.<locals>.method\u001b[0;34m(self, *args, **kwargs)\u001b[0m\n\u001b[1;32m     77\u001b[0m \u001b[38;5;129m@wraps\u001b[39m(meth)\n\u001b[1;32m     78\u001b[0m \u001b[38;5;28;01mdef\u001b[39;00m \u001b[38;5;21mmethod\u001b[39m(\u001b[38;5;28mself\u001b[39m, \u001b[38;5;241m*\u001b[39margs, \u001b[38;5;241m*\u001b[39m\u001b[38;5;241m*\u001b[39mkwargs):\n\u001b[1;32m     79\u001b[0m     \u001b[38;5;28;01mif\u001b[39;00m \u001b[38;5;28mself\u001b[39m\u001b[38;5;241m.\u001b[39mndim \u001b[38;5;241m==\u001b[39m \u001b[38;5;241m1\u001b[39m:\n\u001b[0;32m---> 80\u001b[0m         \u001b[38;5;28;01mreturn\u001b[39;00m meth(\u001b[38;5;28mself\u001b[39m, \u001b[38;5;241m*\u001b[39margs, \u001b[38;5;241m*\u001b[39m\u001b[38;5;241m*\u001b[39mkwargs)\n\u001b[1;32m     82\u001b[0m     flags \u001b[38;5;241m=\u001b[39m \u001b[38;5;28mself\u001b[39m\u001b[38;5;241m.\u001b[39m_ndarray\u001b[38;5;241m.\u001b[39mflags\n\u001b[1;32m     83\u001b[0m     flat \u001b[38;5;241m=\u001b[39m \u001b[38;5;28mself\u001b[39m\u001b[38;5;241m.\u001b[39mravel(\u001b[38;5;124m\"\u001b[39m\u001b[38;5;124mK\u001b[39m\u001b[38;5;124m\"\u001b[39m)\n",
      "File \u001b[0;32m~/miniconda3/envs/myenv/lib/python3.11/site-packages/pandas/core/arrays/datetimelike.py:723\u001b[0m, in \u001b[0;36mDatetimeLikeArrayMixin.map\u001b[0;34m(self, mapper, na_action)\u001b[0m\n\u001b[1;32m    719\u001b[0m \u001b[38;5;129m@ravel_compat\u001b[39m\n\u001b[1;32m    720\u001b[0m \u001b[38;5;28;01mdef\u001b[39;00m \u001b[38;5;21mmap\u001b[39m(\u001b[38;5;28mself\u001b[39m, mapper, na_action\u001b[38;5;241m=\u001b[39m\u001b[38;5;28;01mNone\u001b[39;00m):\n\u001b[1;32m    721\u001b[0m     \u001b[38;5;28;01mfrom\u001b[39;00m \u001b[38;5;21;01mpandas\u001b[39;00m \u001b[38;5;28;01mimport\u001b[39;00m Index\n\u001b[0;32m--> 723\u001b[0m     result \u001b[38;5;241m=\u001b[39m map_array(\u001b[38;5;28mself\u001b[39m, mapper, na_action\u001b[38;5;241m=\u001b[39mna_action)\n\u001b[1;32m    724\u001b[0m     result \u001b[38;5;241m=\u001b[39m Index(result)\n\u001b[1;32m    726\u001b[0m     \u001b[38;5;28;01mif\u001b[39;00m \u001b[38;5;28misinstance\u001b[39m(result, ABCMultiIndex):\n",
      "File \u001b[0;32m~/miniconda3/envs/myenv/lib/python3.11/site-packages/pandas/core/algorithms.py:1814\u001b[0m, in \u001b[0;36mmap_array\u001b[0;34m(arr, mapper, na_action, convert)\u001b[0m\n\u001b[1;32m   1812\u001b[0m values \u001b[38;5;241m=\u001b[39m arr\u001b[38;5;241m.\u001b[39mastype(\u001b[38;5;28mobject\u001b[39m, copy\u001b[38;5;241m=\u001b[39m\u001b[38;5;28;01mFalse\u001b[39;00m)\n\u001b[1;32m   1813\u001b[0m \u001b[38;5;28;01mif\u001b[39;00m na_action \u001b[38;5;129;01mis\u001b[39;00m \u001b[38;5;28;01mNone\u001b[39;00m:\n\u001b[0;32m-> 1814\u001b[0m     \u001b[38;5;28;01mreturn\u001b[39;00m lib\u001b[38;5;241m.\u001b[39mmap_infer(values, mapper, convert\u001b[38;5;241m=\u001b[39mconvert)\n\u001b[1;32m   1815\u001b[0m \u001b[38;5;28;01melse\u001b[39;00m:\n\u001b[1;32m   1816\u001b[0m     \u001b[38;5;28;01mreturn\u001b[39;00m lib\u001b[38;5;241m.\u001b[39mmap_infer_mask(\n\u001b[1;32m   1817\u001b[0m         values, mapper, mask\u001b[38;5;241m=\u001b[39misna(values)\u001b[38;5;241m.\u001b[39mview(np\u001b[38;5;241m.\u001b[39muint8), convert\u001b[38;5;241m=\u001b[39mconvert\n\u001b[1;32m   1818\u001b[0m     )\n",
      "File \u001b[0;32mlib.pyx:2926\u001b[0m, in \u001b[0;36mpandas._libs.lib.map_infer\u001b[0;34m()\u001b[0m\n",
      "File \u001b[0;32m~/study/sirius/metrics-for-educational-courses/other_metrics.py:176\u001b[0m, in \u001b[0;36mTaskTime.evaluate.<locals>.<lambda>\u001b[0;34m(x)\u001b[0m\n\u001b[1;32m    173\u001b[0m user_element_progress \u001b[38;5;241m=\u001b[39m \u001b[38;5;28mself\u001b[39m\u001b[38;5;241m.\u001b[39mdata_tables[\u001b[38;5;124m\"\u001b[39m\u001b[38;5;124muser_element_progress\u001b[39m\u001b[38;5;124m\"\u001b[39m]\n\u001b[1;32m    174\u001b[0m solution_log \u001b[38;5;241m=\u001b[39m \u001b[38;5;28mself\u001b[39m\u001b[38;5;241m.\u001b[39mdata_tables[\u001b[38;5;124m\"\u001b[39m\u001b[38;5;124msolution_log\u001b[39m\u001b[38;5;124m\"\u001b[39m]\u001b[38;5;241m.\u001b[39mcopy()\n\u001b[1;32m    175\u001b[0m solution_log\u001b[38;5;241m.\u001b[39msubmission_time \u001b[38;5;241m=\u001b[39m solution_log\u001b[38;5;241m.\u001b[39msubmission_time\u001b[38;5;241m.\u001b[39mapply(\n\u001b[0;32m--> 176\u001b[0m     \u001b[38;5;28;01mlambda\u001b[39;00m x: datetime\u001b[38;5;241m.\u001b[39mfromisoformat(x)\n\u001b[1;32m    177\u001b[0m )\n\u001b[1;32m    178\u001b[0m \u001b[38;5;66;03m# Выбираю те записи, которые соответствуют данному курсу\u001b[39;00m\n\u001b[1;32m    179\u001b[0m \u001b[38;5;28;01mif\u001b[39;00m course_id \u001b[38;5;241m!=\u001b[39m \u001b[38;5;28;01mNone\u001b[39;00m:\n",
      "\u001b[0;31mTypeError\u001b[0m: fromisoformat: argument must be str"
     ]
    }
   ],
   "source": [
    "mean_tries = mtc.evaluate()\n",
    "tries_std = std.evaluate()\n",
    "skips_percentage = skips.evaluate()\n",
    "lost_percentage = lost.evaluate()\n",
    "guessed_percentage = guess.evaluate()\n",
    "solved_percentage = solved.evaluate()\n",
    "\n",
    "\n",
    "mean_time = mean_time_metric.evaluate() # TODO: fix error; make sure it works\n",
    "\n",
    "N_tries = N_tries_metric.evaluate() # make sure it works\n",
    "diff_tries = diff_tries_metric.evaluate() # make sure it works\n",
    "percentage_tries = percentage_tries_metric.evaluate() # make sure it works\n",
    "\n",
    "\n",
    "\n",
    "data_frames = [\n",
    "    mean_tries,\n",
    "    tries_std,\n",
    "    skips_percentage,\n",
    "    lost_percentage,\n",
    "    guessed_percentage,\n",
    "    solved_percentage,\n",
    "    mean_time,\n",
    "    N_tries,\n",
    "    diff_tries,\n",
    "    percentage_tries\n",
    "]"
   ]
  },
  {
   "cell_type": "code",
   "execution_count": null,
   "id": "16db2d13-0978-4abf-9249-764f14dc36af",
   "metadata": {},
   "outputs": [],
   "source": [
    "from functools import reduce\n",
    "\n",
    "df_merged = reduce(\n",
    "    lambda left, right: pd.merge(\n",
    "        left, right, how=\"outer\", on='element_id'\n",
    "    ),\n",
    "    data_frames,\n",
    ")"
   ]
  },
  {
   "cell_type": "code",
   "execution_count": null,
   "id": "be17716f-2155-4957-a6de-b25e6ec83289",
   "metadata": {},
   "outputs": [],
   "source": [
    "df_merged = df_merged.set_index('element_id')\n",
    "df_merged.head()"
   ]
  },
  {
   "cell_type": "code",
   "execution_count": 7,
   "id": "ee57a3cc-cab9-4422-9420-e81e6bbb4d47",
   "metadata": {},
   "outputs": [],
   "source": [
    "df_merged.to_csv(\"ml_intro_metrics.csv\")"
   ]
  },
  {
   "cell_type": "code",
   "execution_count": null,
   "id": "4488c02b-3098-4c2f-82ad-75b83eb9c35c",
   "metadata": {},
   "outputs": [],
   "source": []
  }
 ],
 "metadata": {
  "kernelspec": {
   "display_name": "Python 3 (ipykernel)",
   "language": "python",
   "name": "python3"
  },
  "language_info": {
   "codemirror_mode": {
    "name": "ipython",
    "version": 3
   },
   "file_extension": ".py",
   "mimetype": "text/x-python",
   "name": "python",
   "nbconvert_exporter": "python",
   "pygments_lexer": "ipython3",
   "version": "3.11.7"
  }
 },
 "nbformat": 4,
 "nbformat_minor": 5
}
