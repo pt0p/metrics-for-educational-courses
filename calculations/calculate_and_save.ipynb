{
 "cells": [
  {
   "cell_type": "code",
   "execution_count": null,
   "id": "3e9557d8-4216-41b7-b074-fbce417f37dc",
   "metadata": {},
   "outputs": [],
   "source": [
    "import pandas as pd\n",
    "import numpy as np\n",
    "import os"
   ]
  },
  {
   "cell_type": "code",
   "execution_count": null,
   "id": "98764f18-9dbe-444a-855e-0ed51dccebd3",
   "metadata": {},
   "outputs": [],
   "source": [
    "from metrics_implementation import MeanTriesCount, TriesStd, SkipsPercentage, GuessedPercentage, LostPercentage, SolvedPercentage\n",
    "from other_metrics import N_tries, diff_tries, percentage_tries, TaskTime, TaskTimeDeviation\n",
    "from functools import reduce\n",
    "\n",
    "def calculate_course(course_dir, course_name):\n",
    "    global percentage_tries\n",
    "    global N_tries\n",
    "    global diff_tries\n",
    "    course = pd.read_csv(course_dir + \"course.csv\")\n",
    "    course_element = pd.read_csv(course_dir + \"course_element.csv\")\n",
    "    course_graph = pd.read_csv(course_dir + \"course_graph.csv\")\n",
    "    course_module = pd.read_csv(course_dir + \"course_module.csv\")\n",
    "    solution_log = pd.read_csv(course_dir + \"solution_log.csv\")\n",
    "    user_course_progress = pd.read_csv(course_dir + \"user_course_progress.csv\")\n",
    "    user_element_progress = pd.read_csv(course_dir + \"user_element_progress.csv\")\n",
    "    user_module_progress = pd.read_csv(course_dir + \"user_module_progress.csv\")\n",
    "\n",
    "    data_tables = {\n",
    "    'course': course,\n",
    "    'course_module': course_module,\n",
    "    'course_element': course_element,\n",
    "    'course_graph': course_graph,\n",
    "    'solution_log': solution_log,\n",
    "    'user_course_progress': user_course_progress,\n",
    "    'user_element_progress': user_element_progress,\n",
    "    'user_module_progress': user_module_progress\n",
    "    }\n",
    "\n",
    "\n",
    "    mtc = MeanTriesCount(metric_name='mean_tries_count', data_tables=data_tables, \n",
    "                        parameters={'outlier': 65}, threshold=4)\n",
    "    std = TriesStd(metric_name='tries_std', data_tables=data_tables, \n",
    "                        parameters={'outlier': 65}, threshold=5)\n",
    "    skips = SkipsPercentage(metric_name='skips_percentage', data_tables=data_tables, \n",
    "                        parameters={}, threshold=0.2)\n",
    "    lost = LostPercentage(metric_name='lost_percentage', data_tables=data_tables, \n",
    "                        parameters={}, threshold=0.15)\n",
    "    guess = GuessedPercentage(metric_name='guessed_percentage', data_tables=data_tables, \n",
    "                        parameters={}, threshold=0.2)\n",
    "    solved = SolvedPercentage('solved_percentage', threshold=0.88, parameters={},data_tables=data_tables)\n",
    "    mean_time_metric = TaskTime(metric_name='mean_time', data_tables=data_tables, parameters={'metric' : 'mean'}, threshold=7.5)\n",
    "    percentage_tries_metric = percentage_tries(metric_name='percentage_tries', threshold=0.9, parameters={}, data_tables=data_tables)\n",
    "    N_tries_metric = N_tries(metric_name='N_tries', threshold=10, parameters={'N' : 7}, data_tables=data_tables)\n",
    "    diff_tries_metric = diff_tries(metric_name='diff_tries', threshold=1, parameters={}, data_tables=data_tables)\n",
    "\n",
    "    mean_tries_df = mtc.evaluate()\n",
    "    tries_std_df = std.evaluate()\n",
    "    skips_percentage_df = skips.evaluate()\n",
    "    lost_percentage_df = lost.evaluate()\n",
    "    guessed_percentage_df = guess.evaluate()\n",
    "    solved_percentage_df = solved.evaluate()\n",
    "\n",
    "    N_tries_df = N_tries_metric.evaluate()\n",
    "    diff_tries_df = diff_tries_metric.evaluate()\n",
    "    percentage_tries_df = percentage_tries_metric.evaluate()\n",
    "\n",
    "    mean_time_df = mean_time_metric.evaluate()\n",
    "\n",
    "    data_frames = [\n",
    "        mean_tries_df,\n",
    "        tries_std_df,\n",
    "        skips_percentage_df,\n",
    "        lost_percentage_df,\n",
    "        guessed_percentage_df,\n",
    "        solved_percentage_df,\n",
    "        mean_time_df,\n",
    "        N_tries_df,\n",
    "        diff_tries_df,\n",
    "        percentage_tries_df\n",
    "    ]\n",
    "    df_merged = reduce(\n",
    "        lambda left, right: pd.merge(\n",
    "            left, right, how=\"outer\", on='element_id'\n",
    "        ),\n",
    "        data_frames,\n",
    "    )\n",
    "    df_merged = df_merged.set_index('element_id')\n",
    "    df_merged.to_csv(f\"course_{course_name}_metrics.csv\")"
   ]
  },
  {
   "cell_type": "code",
   "execution_count": null,
   "id": "bafad804-6ec5-4258-a4fd-a128594a80be",
   "metadata": {},
   "outputs": [],
   "source": [
    "courses_directory='data/courses/'\n",
    "for file in os.listdir(courses_directory):\n",
    "        course_name = os.fsdecode(file)\n",
    "        print(f'Calculating course {course_name}')\n",
    "        course_path = courses_directory + course_name + '/'\n",
    "        calculate_course(course_path, course_name)"
   ]
  },
  {
   "cell_type": "code",
   "execution_count": null,
   "id": "bf5cedbd-6791-43e3-b99c-0977b9435498",
   "metadata": {},
   "outputs": [],
   "source": [
    "# course_dir = \"data/courses/638/\"\n",
    "\n",
    "# course = pd.read_csv(course_dir + \"course.csv\")\n",
    "# course_element = pd.read_csv(course_dir + \"course_element.csv\")\n",
    "# course_graph = pd.read_csv(course_dir + \"course_graph.csv\")\n",
    "# course_module = pd.read_csv(course_dir + \"course_module.csv\")\n",
    "# solution_log = pd.read_csv(course_dir + \"solution_log.csv\")\n",
    "# user_course_progress = pd.read_csv(course_dir + \"user_course_progress.csv\")\n",
    "# user_element_progress = pd.read_csv(course_dir + \"user_element_progress.csv\")\n",
    "# user_module_progress = pd.read_csv(course_dir + \"user_module_progress.csv\")"
   ]
  },
  {
   "cell_type": "code",
   "execution_count": null,
   "id": "cb9aea22-8ae2-4adc-963a-ae482162703f",
   "metadata": {},
   "outputs": [],
   "source": [
    "# from metrics_implementation import MeanTriesCount, TriesStd, SkipsPercentage, GuessedPercentage, LostPercentage, SolvedPercentage\n",
    "\n",
    "# mtc = MeanTriesCount(metric_name='mean_tries_count', data_tables={'user_element_progress': user_element_progress}, \n",
    "#                     parameters={'outlier': 65}, threshold=4)\n",
    "# std = TriesStd(metric_name='tries_std', data_tables={'user_element_progress': user_element_progress}, \n",
    "#                     parameters={'outlier': 65}, threshold=5)\n",
    "# skips = SkipsPercentage(metric_name='skips_percentage', data_tables={'user_element_progress': user_element_progress, 'course_element': course_element}, \n",
    "#                     parameters={}, threshold=0.2)\n",
    "# lost = LostPercentage(metric_name='lost_percentage', data_tables={'user_element_progress': user_element_progress, 'course_element': course_element}, \n",
    "#                     parameters={}, threshold=0.15)\n",
    "# guess = GuessedPercentage(metric_name='guessed_percentage', data_tables={'user_element_progress': user_element_progress, 'solution_log': solution_log}, \n",
    "#                     parameters={}, threshold=0.2)\n",
    "# solved = SolvedPercentage('solved_percentage', threshold=0.88, parameters={},data_tables={'user_element_progress': user_element_progress})"
   ]
  },
  {
   "cell_type": "code",
   "execution_count": null,
   "id": "5ee9bb40-5fba-45b1-a150-044bfabc27de",
   "metadata": {},
   "outputs": [],
   "source": [
    "# data_tables = {\n",
    "#     'course': course,\n",
    "#     'course_module': course_module,\n",
    "#     'course_element': course_element,\n",
    "#     'course_graph': course_graph,\n",
    "#     'solution_log': solution_log,\n",
    "#     'user_course_progress': user_course_progress,\n",
    "#     'user_element_progress': user_element_progress,\n",
    "#     'user_module_progress': user_module_progress\n",
    "# }"
   ]
  },
  {
   "cell_type": "code",
   "execution_count": null,
   "id": "e79bcffd-0c86-4e37-872d-6423ac4a80c7",
   "metadata": {},
   "outputs": [],
   "source": [
    "# from other_metrics import N_tries, diff_tries, percentage_tries, TaskTime, TaskTimeDeviation\n",
    "\n",
    "\n",
    "\n",
    "# median_time_metric = TaskTime(metric_name='median_time', data_tables=data_tables, parameters={'metric' : 'median'}, threshold=1)\n",
    "# mean_time_metric = TaskTime(metric_name='mean_time', data_tables=data_tables, parameters={'metric' : 'mean'}, threshold=7.5)\n",
    "# median_dev_metric = TaskTimeDeviation(metric_name='median_dev', data_tables=data_tables, parameters={'metric' : 'median'}, threshold=1)\n",
    "# mean_dev_metric = TaskTimeDeviation(metric_name='mean_dev', data_tables=data_tables, parameters={'metric' : 'mean'}, threshold=7.5)\n",
    "\n",
    "# N_tries_metric = N_tries(metric_name='N_tries', threshold=10, parameters={'N' : 7}, data_tables=data_tables)\n",
    "# diff_tries_metric = diff_tries(metric_name='diff_tries', threshold=1, parameters={}, data_tables=data_tables)\n",
    "# percentage_tries_metric = percentage_tries(metric_name='percentage_tries', threshold=0.9, parameters={}, data_tables=data_tables)"
   ]
  },
  {
   "cell_type": "code",
   "execution_count": null,
   "id": "61570bc8-5032-4b5d-adc5-a504d31a0c18",
   "metadata": {},
   "outputs": [],
   "source": [
    "# mean_tries = mtc.evaluate()\n",
    "# tries_std = std.evaluate()\n",
    "# skips_percentage = skips.evaluate()\n",
    "# lost_percentage = lost.evaluate()\n",
    "# guessed_percentage = guess.evaluate()\n",
    "# solved_percentage = solved.evaluate()"
   ]
  },
  {
   "cell_type": "code",
   "execution_count": null,
   "id": "7009921d-c682-401a-8f63-9d75f7d13e08",
   "metadata": {},
   "outputs": [],
   "source": [
    "# N_tries = N_tries_metric.evaluate()\n",
    "# diff_tries = diff_tries_metric.evaluate()\n",
    "# percentage_tries = percentage_tries_metric.evaluate()"
   ]
  },
  {
   "cell_type": "code",
   "execution_count": null,
   "id": "53760cbf-b6e8-42e7-816b-db212db92dd4",
   "metadata": {},
   "outputs": [],
   "source": [
    "# mean_time = mean_time_metric.evaluate()"
   ]
  },
  {
   "cell_type": "code",
   "execution_count": null,
   "id": "eb75bf8e-4527-44fb-8755-6aa205941588",
   "metadata": {},
   "outputs": [],
   "source": [
    "# data_frames = [\n",
    "#     mean_tries,\n",
    "#     tries_std,\n",
    "#     skips_percentage,\n",
    "#     lost_percentage,\n",
    "#     guessed_percentage,\n",
    "#     solved_percentage,\n",
    "#     mean_time,\n",
    "#     N_tries,\n",
    "#     diff_tries,\n",
    "#     percentage_tries\n",
    "# ]"
   ]
  },
  {
   "cell_type": "code",
   "execution_count": null,
   "id": "16db2d13-0978-4abf-9249-764f14dc36af",
   "metadata": {},
   "outputs": [],
   "source": [
    "# from functools import reduce\n",
    "\n",
    "# df_merged = reduce(\n",
    "#     lambda left, right: pd.merge(\n",
    "#         left, right, how=\"outer\", on='element_id'\n",
    "#     ),\n",
    "#     data_frames,\n",
    "# )"
   ]
  },
  {
   "cell_type": "code",
   "execution_count": null,
   "id": "be17716f-2155-4957-a6de-b25e6ec83289",
   "metadata": {},
   "outputs": [],
   "source": [
    "# df_merged = df_merged.set_index('element_id')\n",
    "# df_merged.head()"
   ]
  },
  {
   "cell_type": "code",
   "execution_count": null,
   "id": "ee57a3cc-cab9-4422-9420-e81e6bbb4d47",
   "metadata": {},
   "outputs": [],
   "source": [
    "# df_merged.to_csv(\"ml_intro_metrics.csv\")"
   ]
  },
  {
   "cell_type": "code",
   "execution_count": null,
   "id": "4488c02b-3098-4c2f-82ad-75b83eb9c35c",
   "metadata": {},
   "outputs": [],
   "source": []
  }
 ],
 "metadata": {
  "kernelspec": {
   "display_name": "Python 3 (ipykernel)",
   "language": "python",
   "name": "python3"
  },
  "language_info": {
   "codemirror_mode": {
    "name": "ipython",
    "version": 3
   },
   "file_extension": ".py",
   "mimetype": "text/x-python",
   "name": "python",
   "nbconvert_exporter": "python",
   "pygments_lexer": "ipython3",
   "version": "3.11.7"
  }
 },
 "nbformat": 4,
 "nbformat_minor": 5
}
