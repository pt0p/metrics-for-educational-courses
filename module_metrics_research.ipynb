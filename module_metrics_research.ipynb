{
 "cells": [
  {
   "cell_type": "code",
   "execution_count": 1,
   "id": "3ebcf27c-243d-45e9-bc99-b726dc0c96b3",
   "metadata": {},
   "outputs": [],
   "source": [
    "import pandas as pd\n",
    "import seaborn as sns\n",
    "import matplotlib.pyplot as plt\n",
    "import numpy as np\n",
    "import os"
   ]
  },
  {
   "cell_type": "code",
   "execution_count": 2,
   "id": "66b01685-1347-45d7-ba95-a85f28757464",
   "metadata": {},
   "outputs": [],
   "source": [
    "courses_directory = \"data/courses/\"\n",
    "\n",
    "\n",
    "def read_all_courses(name: str):\n",
    "    all_tables = []\n",
    "    for file in os.listdir(courses_directory):\n",
    "        course_name = os.fsdecode(file)\n",
    "        course_path = courses_directory + course_name\n",
    "        all_tables.append(pd.read_csv(course_path + \"/\" + name))\n",
    "    return pd.concat(all_tables)"
   ]
  },
  {
   "cell_type": "code",
   "execution_count": 3,
   "id": "15b267c6-369c-4ab8-8cda-33866b462b48",
   "metadata": {},
   "outputs": [],
   "source": [
    "courses_directory = \"data/courses/\"\n",
    "\n",
    "course = read_all_courses(\"course.csv\")\n",
    "course_element = read_all_courses(\"course_element.csv\")\n",
    "course_graph = read_all_courses(\"course_graph.csv\")\n",
    "course_module = read_all_courses(\"course_module.csv\")\n",
    "solution_log = read_all_courses(\"solution_log.csv\")\n",
    "user_course_progress = read_all_courses(\"user_course_progress.csv\")\n",
    "user_element_progress = read_all_courses(\"user_element_progress.csv\")\n",
    "user_module_progress = read_all_courses(\"user_module_progress.csv\")"
   ]
  },
  {
   "cell_type": "code",
   "execution_count": 4,
   "id": "e653851d-e9e0-40ae-a004-bacac4e9a89b",
   "metadata": {},
   "outputs": [],
   "source": [
    "def filter_module_progress(\n",
    "    module_progress: pd.DataFrame, element_progress: pd.DataFrame\n",
    "):\n",
    "    \"\"\"Убирает прогрессы по модулям, в которых были transferred задачи или autograde; по которым не было совершено попыток\"\"\"\n",
    "    df = module_progress[module_progress[\"achieve_reason\"] != \"autograde\"]\n",
    "    element_progress[\"is_transferred\"] = (\n",
    "        element_progress[\"achieve_reason\"] == \"transferred\"\n",
    "    ).astype(int)\n",
    "    tries_sum = (\n",
    "        element_progress[\n",
    "            [\n",
    "                \"course_id\",\n",
    "                \"user_id\",\n",
    "                \"course_module_id\",\n",
    "                \"course_element_id\",\n",
    "                \"tries_count\",\n",
    "                \"is_transferred\",\n",
    "            ]\n",
    "        ]\n",
    "        .groupby([\"course_id\", \"course_module_id\", \"user_id\"])\n",
    "        .sum()\n",
    "        .reset_index()\n",
    "    )\n",
    "    df = df.merge(\n",
    "        tries_sum, on=[\"course_id\", \"course_module_id\", \"user_id\"], how=\"left\"\n",
    "    )\n",
    "    df = df[(df[\"is_transferred\"] == 0) & (df[\"tries_count\"] > 0)]\n",
    "    return df"
   ]
  },
  {
   "cell_type": "code",
   "execution_count": 5,
   "id": "756f7617-4c9a-42cf-945b-49ec50dc1370",
   "metadata": {},
   "outputs": [],
   "source": [
    "def another_filter_module_progress(\n",
    "    module_progress: pd.DataFrame, element_progress: pd.DataFrame\n",
    "):\n",
    "    \"\"\"Убирает прогрессы по модулям, в которых был autograde; по которым не было совершено попыток\"\"\"\n",
    "    df = module_progress[module_progress[\"achieve_reason\"] != \"autograde\"]\n",
    "    element_progress[\"is_transferred\"] = (\n",
    "        element_progress[\"achieve_reason\"] == \"transferred\"\n",
    "    ).astype(int)\n",
    "    tries_sum = (\n",
    "        element_progress[\n",
    "            [\n",
    "                \"course_id\",\n",
    "                \"user_id\",\n",
    "                \"course_module_id\",\n",
    "                \"course_element_id\",\n",
    "                \"tries_count\",\n",
    "                \"is_transferred\",\n",
    "            ]\n",
    "        ]\n",
    "        .groupby([\"course_id\", \"course_module_id\", \"user_id\"])\n",
    "        .sum()\n",
    "        .reset_index()\n",
    "    )\n",
    "    df = df.merge(\n",
    "        tries_sum, on=[\"course_id\", \"course_module_id\", \"user_id\"], how=\"left\"\n",
    "    )\n",
    "    # df = df[(df['is_transferred'] == 0) & (df['tries_count'] > 0)]\n",
    "    df = df[df[\"tries_count\"] > 0]\n",
    "    return df"
   ]
  },
  {
   "cell_type": "markdown",
   "id": "ce4cf8dd-cf0a-484b-8b51-26fa3c87af4c",
   "metadata": {},
   "source": [
    "### achieved_percentage\n",
    "\n",
    "Доля получивших зачет из приступивших к модулю."
   ]
  },
  {
   "cell_type": "code",
   "execution_count": 6,
   "id": "040a6e76-826f-493e-a889-1abdad7c4c46",
   "metadata": {},
   "outputs": [],
   "source": [
    "df = another_filter_module_progress(user_module_progress, user_element_progress)"
   ]
  },
  {
   "cell_type": "code",
   "execution_count": 7,
   "id": "8f0f4d91-0b5e-4951-97e9-98f32d612026",
   "metadata": {},
   "outputs": [
    {
     "data": {
      "text/html": [
       "<div>\n",
       "<style scoped>\n",
       "    .dataframe tbody tr th:only-of-type {\n",
       "        vertical-align: middle;\n",
       "    }\n",
       "\n",
       "    .dataframe tbody tr th {\n",
       "        vertical-align: top;\n",
       "    }\n",
       "\n",
       "    .dataframe thead th {\n",
       "        text-align: right;\n",
       "    }\n",
       "</style>\n",
       "<table border=\"1\" class=\"dataframe\">\n",
       "  <thead>\n",
       "    <tr style=\"text-align: right;\">\n",
       "      <th></th>\n",
       "      <th>course_module_id</th>\n",
       "      <th>user_id</th>\n",
       "      <th>is_achieved</th>\n",
       "    </tr>\n",
       "  </thead>\n",
       "  <tbody>\n",
       "    <tr>\n",
       "      <th>0</th>\n",
       "      <td>4792</td>\n",
       "      <td>236</td>\n",
       "      <td>148</td>\n",
       "    </tr>\n",
       "    <tr>\n",
       "      <th>1</th>\n",
       "      <td>4793</td>\n",
       "      <td>201</td>\n",
       "      <td>136</td>\n",
       "    </tr>\n",
       "    <tr>\n",
       "      <th>2</th>\n",
       "      <td>4794</td>\n",
       "      <td>1479</td>\n",
       "      <td>470</td>\n",
       "    </tr>\n",
       "    <tr>\n",
       "      <th>3</th>\n",
       "      <td>4795</td>\n",
       "      <td>395</td>\n",
       "      <td>273</td>\n",
       "    </tr>\n",
       "    <tr>\n",
       "      <th>4</th>\n",
       "      <td>4796</td>\n",
       "      <td>132</td>\n",
       "      <td>109</td>\n",
       "    </tr>\n",
       "  </tbody>\n",
       "</table>\n",
       "</div>"
      ],
      "text/plain": [
       "   course_module_id  user_id  is_achieved\n",
       "0              4792      236          148\n",
       "1              4793      201          136\n",
       "2              4794     1479          470\n",
       "3              4795      395          273\n",
       "4              4796      132          109"
      ]
     },
     "execution_count": 7,
     "metadata": {},
     "output_type": "execute_result"
    }
   ],
   "source": [
    "agg_df = (\n",
    "    df[[\"course_module_id\", \"is_achieved\", \"user_id\"]]\n",
    "    .groupby([\"course_module_id\"])\n",
    "    .agg({\"user_id\": \"count\", \"is_achieved\": \"sum\"})\n",
    "    .reset_index()\n",
    ")\n",
    "agg_df.head()"
   ]
  },
  {
   "cell_type": "code",
   "execution_count": 8,
   "id": "dd3edcbe-f5f8-4e53-9c9e-d869c9d436e8",
   "metadata": {},
   "outputs": [],
   "source": [
    "achieved_percentage = pd.DataFrame(\n",
    "    {\n",
    "        \"module_id\": agg_df[\"course_module_id\"],\n",
    "        \"achieved_percentage\": agg_df[\"is_achieved\"] / agg_df[\"user_id\"],\n",
    "    }\n",
    ")"
   ]
  },
  {
   "cell_type": "code",
   "execution_count": 9,
   "id": "ff816ca5-5784-4807-af28-bf4af1129489",
   "metadata": {},
   "outputs": [
    {
     "data": {
      "text/plain": [
       "<Axes: xlabel='achieved_percentage', ylabel='Count'>"
      ]
     },
     "execution_count": 9,
     "metadata": {},
     "output_type": "execute_result"
    },
    {
     "data": {
      "image/png": "[encoded data removed]",
      "text/plain": [
       "<Figure size 1500x800 with 1 Axes>"
      ]
     },
     "metadata": {},
     "output_type": "display_data"
    }
   ],
   "source": [
    "fig, ax = plt.subplots(figsize=(15, 8))\n",
    "sns.histplot(achieved_percentage[\"achieved_percentage\"], ax=ax, binwidth=0.1)\n",
    "# ax.set_xticks(np.arange(0, 11, 0.5));"
   ]
  },
  {
   "cell_type": "code",
   "execution_count": 10,
   "id": "ac9b8091-1997-430e-be23-2b36fed1291e",
   "metadata": {},
   "outputs": [
    {
     "name": "stdout",
     "output_type": "stream",
     "text": [
      "Количество модулей без задач: 11\n"
     ]
    }
   ],
   "source": [
    "no_task_count = len(course_module[course_module[\"tasks_max\"] == 0])\n",
    "print(f\"Количество модулей без задач: {no_task_count}\")"
   ]
  },
  {
   "cell_type": "code",
   "execution_count": 11,
   "id": "90c65d6d-eb70-4b5b-b606-cac88d1aafcb",
   "metadata": {},
   "outputs": [
    {
     "name": "stdout",
     "output_type": "stream",
     "text": [
      "8.13 % модулей мы считаем сложными\n"
     ]
    }
   ],
   "source": [
    "achieved_percentage_threshold = 0.4\n",
    "\n",
    "difficult_percentage = np.count_nonzero(\n",
    "    achieved_percentage[\"achieved_percentage\"] < achieved_percentage_threshold\n",
    ") / len(achieved_percentage)\n",
    "print(\"{:.2f}\".format(difficult_percentage * 100), \"% модулей мы считаем сложными\")"
   ]
  },
  {
   "cell_type": "markdown",
   "id": "61ffab7d-8529-4197-a0f2-fcc4b0cfe3fd",
   "metadata": {
    "jp-MarkdownHeadingCollapsed": true
   },
   "source": [
    "### mean_score_percentage"
   ]
  },
  {
   "cell_type": "markdown",
   "id": "1b7f88ef-b8b8-417d-a294-743ab69f61a8",
   "metadata": {},
   "source": [
    "Средняя доля набранных баллов"
   ]
  },
  {
   "cell_type": "code",
   "execution_count": 12,
   "id": "90168b6c-3c23-4238-a963-519df8c58241",
   "metadata": {},
   "outputs": [],
   "source": [
    "df = another_filter_module_progress(user_module_progress, user_element_progress)"
   ]
  },
  {
   "cell_type": "code",
   "execution_count": 13,
   "id": "dfe6a23f-f520-4a03-b053-9118f3f21363",
   "metadata": {},
   "outputs": [],
   "source": [
    "course_module[\"course_module_id\"] = course_module[\"id\"]"
   ]
  },
  {
   "cell_type": "code",
   "execution_count": 14,
   "id": "779b6315-b1da-4b7c-9de9-d223314a0091",
   "metadata": {},
   "outputs": [],
   "source": [
    "df = df.merge(course_module, on=[\"course_id\", \"course_module_id\"], how=\"left\")\n",
    "df = df[[\"user_id\", \"course_id\", \"course_module_id\", \"progress_current\"]]"
   ]
  },
  {
   "cell_type": "code",
   "execution_count": 15,
   "id": "b0efc0e1-1f03-4b10-9691-7c70600460b8",
   "metadata": {},
   "outputs": [
    {
     "data": {
      "text/html": [
       "<div>\n",
       "<style scoped>\n",
       "    .dataframe tbody tr th:only-of-type {\n",
       "        vertical-align: middle;\n",
       "    }\n",
       "\n",
       "    .dataframe tbody tr th {\n",
       "        vertical-align: top;\n",
       "    }\n",
       "\n",
       "    .dataframe thead th {\n",
       "        text-align: right;\n",
       "    }\n",
       "</style>\n",
       "<table border=\"1\" class=\"dataframe\">\n",
       "  <thead>\n",
       "    <tr style=\"text-align: right;\">\n",
       "      <th></th>\n",
       "      <th>user_id</th>\n",
       "      <th>course_id</th>\n",
       "      <th>course_module_id</th>\n",
       "      <th>progress_current</th>\n",
       "    </tr>\n",
       "  </thead>\n",
       "  <tbody>\n",
       "    <tr>\n",
       "      <th>0</th>\n",
       "      <td>100120050110012994</td>\n",
       "      <td>560</td>\n",
       "      <td>4799</td>\n",
       "      <td>46.0</td>\n",
       "    </tr>\n",
       "    <tr>\n",
       "      <th>1</th>\n",
       "      <td>100120070111138088</td>\n",
       "      <td>560</td>\n",
       "      <td>4794</td>\n",
       "      <td>25.0</td>\n",
       "    </tr>\n",
       "    <tr>\n",
       "      <th>2</th>\n",
       "      <td>100120070511699993</td>\n",
       "      <td>560</td>\n",
       "      <td>4799</td>\n",
       "      <td>50.0</td>\n",
       "    </tr>\n",
       "    <tr>\n",
       "      <th>3</th>\n",
       "      <td>100120070111566303</td>\n",
       "      <td>560</td>\n",
       "      <td>4799</td>\n",
       "      <td>50.0</td>\n",
       "    </tr>\n",
       "    <tr>\n",
       "      <th>4</th>\n",
       "      <td>100119760112087287</td>\n",
       "      <td>560</td>\n",
       "      <td>4799</td>\n",
       "      <td>6.0</td>\n",
       "    </tr>\n",
       "    <tr>\n",
       "      <th>...</th>\n",
       "      <td>...</td>\n",
       "      <td>...</td>\n",
       "      <td>...</td>\n",
       "      <td>...</td>\n",
       "    </tr>\n",
       "    <tr>\n",
       "      <th>97231</th>\n",
       "      <td>100119700110739778</td>\n",
       "      <td>584</td>\n",
       "      <td>5012</td>\n",
       "      <td>9.0</td>\n",
       "    </tr>\n",
       "    <tr>\n",
       "      <th>97232</th>\n",
       "      <td>100119700110739778</td>\n",
       "      <td>584</td>\n",
       "      <td>5142</td>\n",
       "      <td>6.0</td>\n",
       "    </tr>\n",
       "    <tr>\n",
       "      <th>97233</th>\n",
       "      <td>100119700110739778</td>\n",
       "      <td>584</td>\n",
       "      <td>5013</td>\n",
       "      <td>9.0</td>\n",
       "    </tr>\n",
       "    <tr>\n",
       "      <th>97234</th>\n",
       "      <td>100119700110739778</td>\n",
       "      <td>584</td>\n",
       "      <td>5026</td>\n",
       "      <td>5.0</td>\n",
       "    </tr>\n",
       "    <tr>\n",
       "      <th>97235</th>\n",
       "      <td>100119700110739778</td>\n",
       "      <td>584</td>\n",
       "      <td>5015</td>\n",
       "      <td>7.0</td>\n",
       "    </tr>\n",
       "  </tbody>\n",
       "</table>\n",
       "<p>97236 rows × 4 columns</p>\n",
       "</div>"
      ],
      "text/plain": [
       "                  user_id  course_id  course_module_id  progress_current\n",
       "0      100120050110012994        560              4799              46.0\n",
       "1      100120070111138088        560              4794              25.0\n",
       "2      100120070511699993        560              4799              50.0\n",
       "3      100120070111566303        560              4799              50.0\n",
       "4      100119760112087287        560              4799               6.0\n",
       "...                   ...        ...               ...               ...\n",
       "97231  100119700110739778        584              5012               9.0\n",
       "97232  100119700110739778        584              5142               6.0\n",
       "97233  100119700110739778        584              5013               9.0\n",
       "97234  100119700110739778        584              5026               5.0\n",
       "97235  100119700110739778        584              5015               7.0\n",
       "\n",
       "[97236 rows x 4 columns]"
      ]
     },
     "execution_count": 15,
     "metadata": {},
     "output_type": "execute_result"
    }
   ],
   "source": [
    "df"
   ]
  },
  {
   "cell_type": "code",
   "execution_count": 16,
   "id": "a7f2c03d-7944-4618-a82e-18ba5cb260e6",
   "metadata": {},
   "outputs": [],
   "source": [
    "max_scores = (\n",
    "    course_element[[\"module_id\", \"score\"]]\n",
    "    .groupby(\"module_id\")\n",
    "    .sum()\n",
    "    .reset_index()\n",
    "    .rename(columns={\"module_id\": \"course_module_id\", \"score\": \"max_score\"})\n",
    ")\n",
    "df = df.merge(max_scores, on=\"course_module_id\")"
   ]
  },
  {
   "cell_type": "code",
   "execution_count": 17,
   "id": "1d130bbc-add9-4c1c-b242-355f9cc7fa6c",
   "metadata": {},
   "outputs": [],
   "source": [
    "df[\"score_percentage\"] = df[\"progress_current\"] / df[\"max_score\"]"
   ]
  },
  {
   "cell_type": "code",
   "execution_count": 18,
   "id": "3141770f-bfee-4170-b7c7-f3b5d6b38259",
   "metadata": {},
   "outputs": [],
   "source": [
    "mean_score_percentage = (\n",
    "    df[[\"course_module_id\", \"score_percentage\"]]\n",
    "    .groupby(\"course_module_id\")\n",
    "    .mean()\n",
    "    .reset_index()\n",
    "    .rename(\n",
    "        columns={\n",
    "            \"course_module_id\": \"module_id\",\n",
    "            \"score_percentage\": \"mean_score_percentage\",\n",
    "        }\n",
    "    )\n",
    ")"
   ]
  },
  {
   "cell_type": "code",
   "execution_count": 19,
   "id": "501212b9-b5ab-4ad0-8e93-00bfabeb9012",
   "metadata": {},
   "outputs": [
    {
     "data": {
      "image/png": "[encoded data removed]",
      "text/plain": [
       "<Figure size 1500x800 with 1 Axes>"
      ]
     },
     "metadata": {},
     "output_type": "display_data"
    }
   ],
   "source": [
    "fig, ax = plt.subplots(figsize=(15, 8))\n",
    "sns.histplot(mean_score_percentage[\"mean_score_percentage\"], binwidth=0.1, ax=ax)\n",
    "ax.set_xticks(np.arange(0, 1, 0.1));"
   ]
  },
  {
   "cell_type": "code",
   "execution_count": 20,
   "id": "e15c8389-cd70-45cc-8b38-6727ed2859f9",
   "metadata": {},
   "outputs": [
    {
     "name": "stdout",
     "output_type": "stream",
     "text": [
      "13.82 % модулей мы считаем сложными\n"
     ]
    }
   ],
   "source": [
    "mean_score_percentage_threshold = 0.6\n",
    "\n",
    "difficult_percentage = np.count_nonzero(\n",
    "    mean_score_percentage[\"mean_score_percentage\"] < mean_score_percentage_threshold\n",
    ") / len(mean_score_percentage)\n",
    "print(\"{:.2f}\".format(difficult_percentage * 100), \"% модулей мы считаем сложными\")"
   ]
  },
  {
   "cell_type": "markdown",
   "id": "cbd40964-b1e5-4982-9152-24da049e255f",
   "metadata": {
    "jp-MarkdownHeadingCollapsed": true
   },
   "source": [
    "### dev_mean_score_percentage"
   ]
  },
  {
   "cell_type": "markdown",
   "id": "ee3916c8-8c2f-44b7-b79b-e9cd952c708c",
   "metadata": {},
   "source": [
    "Среднее отличие доли набранных баллов у пользователя в данном модуле от модулей-пререквизитов."
   ]
  },
  {
   "cell_type": "code",
   "execution_count": 21,
   "id": "29570fc5-7c17-4906-8d87-cb9db961e03b",
   "metadata": {},
   "outputs": [
    {
     "data": {
      "text/html": [
       "<div>\n",
       "<style scoped>\n",
       "    .dataframe tbody tr th:only-of-type {\n",
       "        vertical-align: middle;\n",
       "    }\n",
       "\n",
       "    .dataframe tbody tr th {\n",
       "        vertical-align: top;\n",
       "    }\n",
       "\n",
       "    .dataframe thead th {\n",
       "        text-align: right;\n",
       "    }\n",
       "</style>\n",
       "<table border=\"1\" class=\"dataframe\">\n",
       "  <thead>\n",
       "    <tr style=\"text-align: right;\">\n",
       "      <th></th>\n",
       "      <th>id</th>\n",
       "      <th>user_id</th>\n",
       "      <th>course_id</th>\n",
       "      <th>course_module_id</th>\n",
       "      <th>progress_current</th>\n",
       "      <th>progress_failed</th>\n",
       "      <th>steps_done</th>\n",
       "      <th>is_achieved</th>\n",
       "      <th>is_closed</th>\n",
       "      <th>course_progress_id</th>\n",
       "      <th>...</th>\n",
       "      <th>time_closed</th>\n",
       "      <th>time_achieved</th>\n",
       "      <th>time_unlocked</th>\n",
       "      <th>tasks_done</th>\n",
       "      <th>time_done</th>\n",
       "      <th>is_done</th>\n",
       "      <th>achieve_reason</th>\n",
       "      <th>course_element_id</th>\n",
       "      <th>tries_count</th>\n",
       "      <th>is_transferred</th>\n",
       "    </tr>\n",
       "  </thead>\n",
       "  <tbody>\n",
       "    <tr>\n",
       "      <th>1</th>\n",
       "      <td>5479980</td>\n",
       "      <td>100120050110012994</td>\n",
       "      <td>560</td>\n",
       "      <td>4799</td>\n",
       "      <td>46.0</td>\n",
       "      <td>0.0</td>\n",
       "      <td>31</td>\n",
       "      <td>True</td>\n",
       "      <td>False</td>\n",
       "      <td>378242</td>\n",
       "      <td>...</td>\n",
       "      <td>NaN</td>\n",
       "      <td>2021-11-15 20:37:51.555016</td>\n",
       "      <td>2021-11-04 02:08:17.030108</td>\n",
       "      <td>22</td>\n",
       "      <td>NaN</td>\n",
       "      <td>False</td>\n",
       "      <td>solved</td>\n",
       "      <td>217683</td>\n",
       "      <td>44</td>\n",
       "      <td>0</td>\n",
       "    </tr>\n",
       "    <tr>\n",
       "      <th>2</th>\n",
       "      <td>6526762</td>\n",
       "      <td>100120070111138088</td>\n",
       "      <td>560</td>\n",
       "      <td>4794</td>\n",
       "      <td>25.0</td>\n",
       "      <td>0.0</td>\n",
       "      <td>17</td>\n",
       "      <td>False</td>\n",
       "      <td>False</td>\n",
       "      <td>451310</td>\n",
       "      <td>...</td>\n",
       "      <td>NaN</td>\n",
       "      <td>NaN</td>\n",
       "      <td>2021-10-08 18:46:00.507560</td>\n",
       "      <td>7</td>\n",
       "      <td>NaN</td>\n",
       "      <td>False</td>\n",
       "      <td>NaN</td>\n",
       "      <td>196199</td>\n",
       "      <td>66</td>\n",
       "      <td>0</td>\n",
       "    </tr>\n",
       "    <tr>\n",
       "      <th>3</th>\n",
       "      <td>5497678</td>\n",
       "      <td>100120070511699993</td>\n",
       "      <td>560</td>\n",
       "      <td>4799</td>\n",
       "      <td>50.0</td>\n",
       "      <td>0.0</td>\n",
       "      <td>32</td>\n",
       "      <td>True</td>\n",
       "      <td>True</td>\n",
       "      <td>379784</td>\n",
       "      <td>...</td>\n",
       "      <td>2021-11-15 20:50:22.739024</td>\n",
       "      <td>2021-11-06 19:43:24.693248</td>\n",
       "      <td>2021-09-07 22:05:13.750158</td>\n",
       "      <td>23</td>\n",
       "      <td>2021-11-15 20:50:22.739024</td>\n",
       "      <td>True</td>\n",
       "      <td>solved</td>\n",
       "      <td>217683</td>\n",
       "      <td>85</td>\n",
       "      <td>0</td>\n",
       "    </tr>\n",
       "    <tr>\n",
       "      <th>5</th>\n",
       "      <td>5530018</td>\n",
       "      <td>100120070111566303</td>\n",
       "      <td>560</td>\n",
       "      <td>4799</td>\n",
       "      <td>50.0</td>\n",
       "      <td>0.0</td>\n",
       "      <td>32</td>\n",
       "      <td>True</td>\n",
       "      <td>True</td>\n",
       "      <td>383012</td>\n",
       "      <td>...</td>\n",
       "      <td>2021-11-15 20:53:17.347814</td>\n",
       "      <td>2021-11-15 20:39:22.741464</td>\n",
       "      <td>2021-09-02 11:38:25.698498</td>\n",
       "      <td>23</td>\n",
       "      <td>2021-11-15 20:53:17.347814</td>\n",
       "      <td>True</td>\n",
       "      <td>solved</td>\n",
       "      <td>217683</td>\n",
       "      <td>91</td>\n",
       "      <td>8</td>\n",
       "    </tr>\n",
       "    <tr>\n",
       "      <th>9</th>\n",
       "      <td>6342347</td>\n",
       "      <td>100119760112087287</td>\n",
       "      <td>560</td>\n",
       "      <td>4799</td>\n",
       "      <td>6.0</td>\n",
       "      <td>0.0</td>\n",
       "      <td>5</td>\n",
       "      <td>False</td>\n",
       "      <td>False</td>\n",
       "      <td>439651</td>\n",
       "      <td>...</td>\n",
       "      <td>NaN</td>\n",
       "      <td>NaN</td>\n",
       "      <td>2021-10-01 22:12:32.831471</td>\n",
       "      <td>2</td>\n",
       "      <td>NaN</td>\n",
       "      <td>False</td>\n",
       "      <td>NaN</td>\n",
       "      <td>217683</td>\n",
       "      <td>5</td>\n",
       "      <td>0</td>\n",
       "    </tr>\n",
       "    <tr>\n",
       "      <th>...</th>\n",
       "      <td>...</td>\n",
       "      <td>...</td>\n",
       "      <td>...</td>\n",
       "      <td>...</td>\n",
       "      <td>...</td>\n",
       "      <td>...</td>\n",
       "      <td>...</td>\n",
       "      <td>...</td>\n",
       "      <td>...</td>\n",
       "      <td>...</td>\n",
       "      <td>...</td>\n",
       "      <td>...</td>\n",
       "      <td>...</td>\n",
       "      <td>...</td>\n",
       "      <td>...</td>\n",
       "      <td>...</td>\n",
       "      <td>...</td>\n",
       "      <td>...</td>\n",
       "      <td>...</td>\n",
       "      <td>...</td>\n",
       "      <td>...</td>\n",
       "    </tr>\n",
       "    <tr>\n",
       "      <th>148412</th>\n",
       "      <td>5647437</td>\n",
       "      <td>100119700110739778</td>\n",
       "      <td>584</td>\n",
       "      <td>5012</td>\n",
       "      <td>9.0</td>\n",
       "      <td>0.0</td>\n",
       "      <td>18</td>\n",
       "      <td>True</td>\n",
       "      <td>False</td>\n",
       "      <td>392150</td>\n",
       "      <td>...</td>\n",
       "      <td>NaN</td>\n",
       "      <td>2021-09-06 19:06:50.131253</td>\n",
       "      <td>2021-09-06 19:06:50.131253</td>\n",
       "      <td>9</td>\n",
       "      <td>2021-09-06 19:06:50.131253</td>\n",
       "      <td>True</td>\n",
       "      <td>solved</td>\n",
       "      <td>29375</td>\n",
       "      <td>18</td>\n",
       "      <td>18</td>\n",
       "    </tr>\n",
       "    <tr>\n",
       "      <th>148413</th>\n",
       "      <td>5647456</td>\n",
       "      <td>100119700110739778</td>\n",
       "      <td>584</td>\n",
       "      <td>5142</td>\n",
       "      <td>6.0</td>\n",
       "      <td>0.0</td>\n",
       "      <td>6</td>\n",
       "      <td>False</td>\n",
       "      <td>False</td>\n",
       "      <td>392150</td>\n",
       "      <td>...</td>\n",
       "      <td>NaN</td>\n",
       "      <td>NaN</td>\n",
       "      <td>NaN</td>\n",
       "      <td>6</td>\n",
       "      <td>NaN</td>\n",
       "      <td>False</td>\n",
       "      <td>NaN</td>\n",
       "      <td>212621</td>\n",
       "      <td>6</td>\n",
       "      <td>6</td>\n",
       "    </tr>\n",
       "    <tr>\n",
       "      <th>148414</th>\n",
       "      <td>5647454</td>\n",
       "      <td>100119700110739778</td>\n",
       "      <td>584</td>\n",
       "      <td>5013</td>\n",
       "      <td>9.0</td>\n",
       "      <td>0.0</td>\n",
       "      <td>21</td>\n",
       "      <td>True</td>\n",
       "      <td>False</td>\n",
       "      <td>392150</td>\n",
       "      <td>...</td>\n",
       "      <td>NaN</td>\n",
       "      <td>2021-09-06 19:06:50.131253</td>\n",
       "      <td>2021-09-06 19:06:43.522345</td>\n",
       "      <td>9</td>\n",
       "      <td>2021-09-06 19:06:50.131253</td>\n",
       "      <td>True</td>\n",
       "      <td>solved</td>\n",
       "      <td>35507</td>\n",
       "      <td>21</td>\n",
       "      <td>21</td>\n",
       "    </tr>\n",
       "    <tr>\n",
       "      <th>148415</th>\n",
       "      <td>5647462</td>\n",
       "      <td>100119700110739778</td>\n",
       "      <td>584</td>\n",
       "      <td>5026</td>\n",
       "      <td>5.0</td>\n",
       "      <td>0.0</td>\n",
       "      <td>15</td>\n",
       "      <td>False</td>\n",
       "      <td>False</td>\n",
       "      <td>392150</td>\n",
       "      <td>...</td>\n",
       "      <td>NaN</td>\n",
       "      <td>NaN</td>\n",
       "      <td>2021-09-06 19:06:50.131253</td>\n",
       "      <td>5</td>\n",
       "      <td>NaN</td>\n",
       "      <td>False</td>\n",
       "      <td>NaN</td>\n",
       "      <td>228490</td>\n",
       "      <td>15</td>\n",
       "      <td>15</td>\n",
       "    </tr>\n",
       "    <tr>\n",
       "      <th>148416</th>\n",
       "      <td>5647461</td>\n",
       "      <td>100119700110739778</td>\n",
       "      <td>584</td>\n",
       "      <td>5015</td>\n",
       "      <td>7.0</td>\n",
       "      <td>0.0</td>\n",
       "      <td>15</td>\n",
       "      <td>False</td>\n",
       "      <td>False</td>\n",
       "      <td>392150</td>\n",
       "      <td>...</td>\n",
       "      <td>NaN</td>\n",
       "      <td>NaN</td>\n",
       "      <td>2021-09-06 19:06:50.131253</td>\n",
       "      <td>7</td>\n",
       "      <td>NaN</td>\n",
       "      <td>False</td>\n",
       "      <td>NaN</td>\n",
       "      <td>180951</td>\n",
       "      <td>15</td>\n",
       "      <td>15</td>\n",
       "    </tr>\n",
       "  </tbody>\n",
       "</table>\n",
       "<p>97236 rows × 22 columns</p>\n",
       "</div>"
      ],
      "text/plain": [
       "             id             user_id  course_id  course_module_id  \\\n",
       "1       5479980  100120050110012994        560              4799   \n",
       "2       6526762  100120070111138088        560              4794   \n",
       "3       5497678  100120070511699993        560              4799   \n",
       "5       5530018  100120070111566303        560              4799   \n",
       "9       6342347  100119760112087287        560              4799   \n",
       "...         ...                 ...        ...               ...   \n",
       "148412  5647437  100119700110739778        584              5012   \n",
       "148413  5647456  100119700110739778        584              5142   \n",
       "148414  5647454  100119700110739778        584              5013   \n",
       "148415  5647462  100119700110739778        584              5026   \n",
       "148416  5647461  100119700110739778        584              5015   \n",
       "\n",
       "        progress_current  progress_failed  steps_done  is_achieved  is_closed  \\\n",
       "1                   46.0              0.0          31         True      False   \n",
       "2                   25.0              0.0          17        False      False   \n",
       "3                   50.0              0.0          32         True       True   \n",
       "5                   50.0              0.0          32         True       True   \n",
       "9                    6.0              0.0           5        False      False   \n",
       "...                  ...              ...         ...          ...        ...   \n",
       "148412               9.0              0.0          18         True      False   \n",
       "148413               6.0              0.0           6        False      False   \n",
       "148414               9.0              0.0          21         True      False   \n",
       "148415               5.0              0.0          15        False      False   \n",
       "148416               7.0              0.0          15        False      False   \n",
       "\n",
       "        course_progress_id  ...                 time_closed  \\\n",
       "1                   378242  ...                         NaN   \n",
       "2                   451310  ...                         NaN   \n",
       "3                   379784  ...  2021-11-15 20:50:22.739024   \n",
       "5                   383012  ...  2021-11-15 20:53:17.347814   \n",
       "9                   439651  ...                         NaN   \n",
       "...                    ...  ...                         ...   \n",
       "148412              392150  ...                         NaN   \n",
       "148413              392150  ...                         NaN   \n",
       "148414              392150  ...                         NaN   \n",
       "148415              392150  ...                         NaN   \n",
       "148416              392150  ...                         NaN   \n",
       "\n",
       "                     time_achieved               time_unlocked tasks_done  \\\n",
       "1       2021-11-15 20:37:51.555016  2021-11-04 02:08:17.030108         22   \n",
       "2                              NaN  2021-10-08 18:46:00.507560          7   \n",
       "3       2021-11-06 19:43:24.693248  2021-09-07 22:05:13.750158         23   \n",
       "5       2021-11-15 20:39:22.741464  2021-09-02 11:38:25.698498         23   \n",
       "9                              NaN  2021-10-01 22:12:32.831471          2   \n",
       "...                            ...                         ...        ...   \n",
       "148412  2021-09-06 19:06:50.131253  2021-09-06 19:06:50.131253          9   \n",
       "148413                         NaN                         NaN          6   \n",
       "148414  2021-09-06 19:06:50.131253  2021-09-06 19:06:43.522345          9   \n",
       "148415                         NaN  2021-09-06 19:06:50.131253          5   \n",
       "148416                         NaN  2021-09-06 19:06:50.131253          7   \n",
       "\n",
       "                         time_done  is_done achieve_reason  course_element_id  \\\n",
       "1                              NaN    False         solved             217683   \n",
       "2                              NaN    False            NaN             196199   \n",
       "3       2021-11-15 20:50:22.739024     True         solved             217683   \n",
       "5       2021-11-15 20:53:17.347814     True         solved             217683   \n",
       "9                              NaN    False            NaN             217683   \n",
       "...                            ...      ...            ...                ...   \n",
       "148412  2021-09-06 19:06:50.131253     True         solved              29375   \n",
       "148413                         NaN    False            NaN             212621   \n",
       "148414  2021-09-06 19:06:50.131253     True         solved              35507   \n",
       "148415                         NaN    False            NaN             228490   \n",
       "148416                         NaN    False            NaN             180951   \n",
       "\n",
       "       tries_count  is_transferred  \n",
       "1               44               0  \n",
       "2               66               0  \n",
       "3               85               0  \n",
       "5               91               8  \n",
       "9                5               0  \n",
       "...            ...             ...  \n",
       "148412          18              18  \n",
       "148413           6               6  \n",
       "148414          21              21  \n",
       "148415          15              15  \n",
       "148416          15              15  \n",
       "\n",
       "[97236 rows x 22 columns]"
      ]
     },
     "execution_count": 21,
     "metadata": {},
     "output_type": "execute_result"
    }
   ],
   "source": [
    "df = another_filter_module_progress(user_module_progress, user_element_progress)\n",
    "df"
   ]
  },
  {
   "cell_type": "code",
   "execution_count": 22,
   "id": "ddfa7a75-204c-4b24-9bc2-d65333e9bc1b",
   "metadata": {},
   "outputs": [],
   "source": [
    "course_module[\"course_module_id\"] = course_module[\"id\"]\n",
    "df = df.merge(course_module, on=[\"course_id\", \"course_module_id\"], how=\"left\")\n",
    "df = df[[\"user_id\", \"course_id\", \"course_module_id\", \"progress_current\"]]\n",
    "max_scores = (\n",
    "    course_element[[\"module_id\", \"score\"]]\n",
    "    .groupby(\"module_id\")\n",
    "    .sum()\n",
    "    .reset_index()\n",
    "    .rename(columns={\"module_id\": \"course_module_id\", \"score\": \"max_score\"})\n",
    ")\n",
    "df = df.merge(max_scores, on=\"course_module_id\")\n",
    "df[\"score_percentage\"] = df[\"progress_current\"] / df[\"max_score\"]"
   ]
  },
  {
   "cell_type": "code",
   "execution_count": 23,
   "id": "76340706-353b-4d45-8acc-7b054cca3883",
   "metadata": {},
   "outputs": [
    {
     "data": {
      "text/html": [
       "<div>\n",
       "<style scoped>\n",
       "    .dataframe tbody tr th:only-of-type {\n",
       "        vertical-align: middle;\n",
       "    }\n",
       "\n",
       "    .dataframe tbody tr th {\n",
       "        vertical-align: top;\n",
       "    }\n",
       "\n",
       "    .dataframe thead th {\n",
       "        text-align: right;\n",
       "    }\n",
       "</style>\n",
       "<table border=\"1\" class=\"dataframe\">\n",
       "  <thead>\n",
       "    <tr style=\"text-align: right;\">\n",
       "      <th></th>\n",
       "      <th>user_id</th>\n",
       "      <th>course_id</th>\n",
       "      <th>course_module_id</th>\n",
       "      <th>progress_current</th>\n",
       "      <th>max_score</th>\n",
       "      <th>score_percentage</th>\n",
       "    </tr>\n",
       "  </thead>\n",
       "  <tbody>\n",
       "    <tr>\n",
       "      <th>0</th>\n",
       "      <td>100120050110012994</td>\n",
       "      <td>560</td>\n",
       "      <td>4799</td>\n",
       "      <td>46.0</td>\n",
       "      <td>50.0</td>\n",
       "      <td>0.92</td>\n",
       "    </tr>\n",
       "    <tr>\n",
       "      <th>1</th>\n",
       "      <td>100120070511699993</td>\n",
       "      <td>560</td>\n",
       "      <td>4799</td>\n",
       "      <td>50.0</td>\n",
       "      <td>50.0</td>\n",
       "      <td>1.00</td>\n",
       "    </tr>\n",
       "    <tr>\n",
       "      <th>2</th>\n",
       "      <td>100120070111566303</td>\n",
       "      <td>560</td>\n",
       "      <td>4799</td>\n",
       "      <td>50.0</td>\n",
       "      <td>50.0</td>\n",
       "      <td>1.00</td>\n",
       "    </tr>\n",
       "    <tr>\n",
       "      <th>3</th>\n",
       "      <td>100119760112087287</td>\n",
       "      <td>560</td>\n",
       "      <td>4799</td>\n",
       "      <td>6.0</td>\n",
       "      <td>50.0</td>\n",
       "      <td>0.12</td>\n",
       "    </tr>\n",
       "    <tr>\n",
       "      <th>4</th>\n",
       "      <td>100120040110756670</td>\n",
       "      <td>560</td>\n",
       "      <td>4799</td>\n",
       "      <td>37.0</td>\n",
       "      <td>50.0</td>\n",
       "      <td>0.74</td>\n",
       "    </tr>\n",
       "    <tr>\n",
       "      <th>...</th>\n",
       "      <td>...</td>\n",
       "      <td>...</td>\n",
       "      <td>...</td>\n",
       "      <td>...</td>\n",
       "      <td>...</td>\n",
       "      <td>...</td>\n",
       "    </tr>\n",
       "    <tr>\n",
       "      <th>97231</th>\n",
       "      <td>100120040111027322</td>\n",
       "      <td>584</td>\n",
       "      <td>5019</td>\n",
       "      <td>10.0</td>\n",
       "      <td>10.0</td>\n",
       "      <td>1.00</td>\n",
       "    </tr>\n",
       "    <tr>\n",
       "      <th>97232</th>\n",
       "      <td>100119920110471037</td>\n",
       "      <td>584</td>\n",
       "      <td>5019</td>\n",
       "      <td>2.0</td>\n",
       "      <td>10.0</td>\n",
       "      <td>0.20</td>\n",
       "    </tr>\n",
       "    <tr>\n",
       "      <th>97233</th>\n",
       "      <td>100120060111692729</td>\n",
       "      <td>584</td>\n",
       "      <td>5019</td>\n",
       "      <td>9.0</td>\n",
       "      <td>10.0</td>\n",
       "      <td>0.90</td>\n",
       "    </tr>\n",
       "    <tr>\n",
       "      <th>97234</th>\n",
       "      <td>100120060111220946</td>\n",
       "      <td>584</td>\n",
       "      <td>5019</td>\n",
       "      <td>2.0</td>\n",
       "      <td>10.0</td>\n",
       "      <td>0.20</td>\n",
       "    </tr>\n",
       "    <tr>\n",
       "      <th>97235</th>\n",
       "      <td>100120060111111145</td>\n",
       "      <td>584</td>\n",
       "      <td>5019</td>\n",
       "      <td>7.0</td>\n",
       "      <td>10.0</td>\n",
       "      <td>0.70</td>\n",
       "    </tr>\n",
       "  </tbody>\n",
       "</table>\n",
       "<p>97236 rows × 6 columns</p>\n",
       "</div>"
      ],
      "text/plain": [
       "                  user_id  course_id  course_module_id  progress_current  \\\n",
       "0      100120050110012994        560              4799              46.0   \n",
       "1      100120070511699993        560              4799              50.0   \n",
       "2      100120070111566303        560              4799              50.0   \n",
       "3      100119760112087287        560              4799               6.0   \n",
       "4      100120040110756670        560              4799              37.0   \n",
       "...                   ...        ...               ...               ...   \n",
       "97231  100120040111027322        584              5019              10.0   \n",
       "97232  100119920110471037        584              5019               2.0   \n",
       "97233  100120060111692729        584              5019               9.0   \n",
       "97234  100120060111220946        584              5019               2.0   \n",
       "97235  100120060111111145        584              5019               7.0   \n",
       "\n",
       "       max_score  score_percentage  \n",
       "0           50.0              0.92  \n",
       "1           50.0              1.00  \n",
       "2           50.0              1.00  \n",
       "3           50.0              0.12  \n",
       "4           50.0              0.74  \n",
       "...          ...               ...  \n",
       "97231       10.0              1.00  \n",
       "97232       10.0              0.20  \n",
       "97233       10.0              0.90  \n",
       "97234       10.0              0.20  \n",
       "97235       10.0              0.70  \n",
       "\n",
       "[97236 rows x 6 columns]"
      ]
     },
     "execution_count": 23,
     "metadata": {},
     "output_type": "execute_result"
    }
   ],
   "source": [
    "df"
   ]
  },
  {
   "cell_type": "code",
   "execution_count": 24,
   "id": "01f24dc9-0cf9-41d3-b7de-b849a3979699",
   "metadata": {},
   "outputs": [],
   "source": [
    "prerequisites = {}\n",
    "for to_module, in_arrows in course_graph.groupby(\"to_module_id\"):\n",
    "    prerequisites[to_module] = list(in_arrows[\"from_module_id\"])"
   ]
  },
  {
   "cell_type": "code",
   "execution_count": 25,
   "id": "0bdf65f2-01ae-4997-abd2-4db75269fc9a",
   "metadata": {},
   "outputs": [
    {
     "name": "stderr",
     "output_type": "stream",
     "text": [
      "97236it [00:34, 2832.22it/s]\n"
     ]
    }
   ],
   "source": [
    "from tqdm import tqdm\n",
    "\n",
    "mean_prereq_score_percentages = []\n",
    "for index, row in tqdm(df.iterrows()):\n",
    "    user_scores = df[df[\"user_id\"] == row[\"user_id\"]]\n",
    "    module_id = int(row[\"course_module_id\"])\n",
    "    if module_id in prerequisites.keys():\n",
    "        user_scores = user_scores[\n",
    "            user_scores[\"course_module_id\"].isin(prerequisites[module_id])\n",
    "        ]\n",
    "        mean_prereq_score_percentage = user_scores[\"score_percentage\"].mean()\n",
    "    else:\n",
    "        mean_prereq_score_percentage = np.nan\n",
    "    mean_prereq_score_percentages.append(mean_prereq_score_percentage)"
   ]
  },
  {
   "cell_type": "code",
   "execution_count": 26,
   "id": "f46b95a4-b5eb-4e5d-8845-d53639750536",
   "metadata": {},
   "outputs": [],
   "source": [
    "df[\"mean_prereq_score_percentage\"] = mean_prereq_score_percentages\n",
    "df[\"dev\"] = df[\"mean_prereq_score_percentage\"] - df[\"score_percentage\"]"
   ]
  },
  {
   "cell_type": "code",
   "execution_count": 27,
   "id": "829d8f43-4d40-41ac-a230-198c06461804",
   "metadata": {},
   "outputs": [],
   "source": [
    "dev_mean_score_percentage = (\n",
    "    df[[\"course_module_id\", \"dev\"]]\n",
    "    .groupby(\"course_module_id\")\n",
    "    .mean()\n",
    "    .reset_index()\n",
    "    .rename(\n",
    "        columns={\"course_module_id\": \"module_id\", \"dev\": \"dev_mean_score_percentage\"}\n",
    "    )\n",
    ")"
   ]
  },
  {
   "cell_type": "code",
   "execution_count": 28,
   "id": "ab868d79-c2a1-4ba5-8ed0-aabde99bbd83",
   "metadata": {},
   "outputs": [
    {
     "data": {
      "text/plain": [
       "<Axes: xlabel='dev_mean_score_percentage', ylabel='Count'>"
      ]
     },
     "execution_count": 28,
     "metadata": {},
     "output_type": "execute_result"
    },
    {
     "data": {
      "image/png": "[encoded data removed]",
      "text/plain": [
       "<Figure size 640x480 with 1 Axes>"
      ]
     },
     "metadata": {},
     "output_type": "display_data"
    }
   ],
   "source": [
    "sns.histplot(dev_mean_score_percentage[\"dev_mean_score_percentage\"], binwidth=0.05)"
   ]
  },
  {
   "cell_type": "code",
   "execution_count": 29,
   "id": "aa37c099-6f5e-4906-b34e-90b7ede7a968",
   "metadata": {},
   "outputs": [
    {
     "name": "stdout",
     "output_type": "stream",
     "text": [
      "6.50 % модулей мы считаем сложными\n"
     ]
    }
   ],
   "source": [
    "dev_mean_score_percentage_threshold = 0.3\n",
    "\n",
    "difficult_percentage = np.count_nonzero(\n",
    "    dev_mean_score_percentage[\"dev_mean_score_percentage\"]\n",
    "    > dev_mean_score_percentage_threshold\n",
    ") / len(dev_mean_score_percentage)\n",
    "print(\"{:.2f}\".format(difficult_percentage * 100), \"% модулей мы считаем сложными\")"
   ]
  },
  {
   "cell_type": "markdown",
   "id": "c7401086-3311-4e30-aeb2-bffc5725c339",
   "metadata": {
    "jp-MarkdownHeadingCollapsed": true
   },
   "source": [
    "## Линейные связи"
   ]
  },
  {
   "cell_type": "code",
   "execution_count": 30,
   "id": "854eb209-b0f4-45d7-b372-707efe8cf89e",
   "metadata": {},
   "outputs": [
    {
     "data": {
      "text/html": [
       "<div>\n",
       "<style scoped>\n",
       "    .dataframe tbody tr th:only-of-type {\n",
       "        vertical-align: middle;\n",
       "    }\n",
       "\n",
       "    .dataframe tbody tr th {\n",
       "        vertical-align: top;\n",
       "    }\n",
       "\n",
       "    .dataframe thead th {\n",
       "        text-align: right;\n",
       "    }\n",
       "</style>\n",
       "<table border=\"1\" class=\"dataframe\">\n",
       "  <thead>\n",
       "    <tr style=\"text-align: right;\">\n",
       "      <th></th>\n",
       "      <th>module_id</th>\n",
       "      <th>mean_score_percentage</th>\n",
       "      <th>dev_mean_score_percentage</th>\n",
       "      <th>achieved_percentage</th>\n",
       "    </tr>\n",
       "  </thead>\n",
       "  <tbody>\n",
       "    <tr>\n",
       "      <th>0</th>\n",
       "      <td>4792</td>\n",
       "      <td>0.703828</td>\n",
       "      <td>0.169685</td>\n",
       "      <td>0.627119</td>\n",
       "    </tr>\n",
       "    <tr>\n",
       "      <th>1</th>\n",
       "      <td>4793</td>\n",
       "      <td>0.690011</td>\n",
       "      <td>0.209882</td>\n",
       "      <td>0.676617</td>\n",
       "    </tr>\n",
       "    <tr>\n",
       "      <th>2</th>\n",
       "      <td>4794</td>\n",
       "      <td>0.408409</td>\n",
       "      <td>NaN</td>\n",
       "      <td>0.317782</td>\n",
       "    </tr>\n",
       "    <tr>\n",
       "      <th>3</th>\n",
       "      <td>4795</td>\n",
       "      <td>0.722218</td>\n",
       "      <td>0.155541</td>\n",
       "      <td>0.691139</td>\n",
       "    </tr>\n",
       "    <tr>\n",
       "      <th>4</th>\n",
       "      <td>4796</td>\n",
       "      <td>0.789009</td>\n",
       "      <td>0.067967</td>\n",
       "      <td>0.825758</td>\n",
       "    </tr>\n",
       "    <tr>\n",
       "      <th>...</th>\n",
       "      <td>...</td>\n",
       "      <td>...</td>\n",
       "      <td>...</td>\n",
       "      <td>...</td>\n",
       "    </tr>\n",
       "    <tr>\n",
       "      <th>118</th>\n",
       "      <td>5545</td>\n",
       "      <td>0.797169</td>\n",
       "      <td>NaN</td>\n",
       "      <td>0.731942</td>\n",
       "    </tr>\n",
       "    <tr>\n",
       "      <th>119</th>\n",
       "      <td>5546</td>\n",
       "      <td>0.680272</td>\n",
       "      <td>0.242432</td>\n",
       "      <td>0.653061</td>\n",
       "    </tr>\n",
       "    <tr>\n",
       "      <th>120</th>\n",
       "      <td>5547</td>\n",
       "      <td>0.606838</td>\n",
       "      <td>0.328976</td>\n",
       "      <td>0.538462</td>\n",
       "    </tr>\n",
       "    <tr>\n",
       "      <th>121</th>\n",
       "      <td>5548</td>\n",
       "      <td>0.749766</td>\n",
       "      <td>0.183911</td>\n",
       "      <td>0.783505</td>\n",
       "    </tr>\n",
       "    <tr>\n",
       "      <th>122</th>\n",
       "      <td>5549</td>\n",
       "      <td>0.578125</td>\n",
       "      <td>0.288856</td>\n",
       "      <td>0.562500</td>\n",
       "    </tr>\n",
       "  </tbody>\n",
       "</table>\n",
       "<p>123 rows × 4 columns</p>\n",
       "</div>"
      ],
      "text/plain": [
       "     module_id  mean_score_percentage  dev_mean_score_percentage  \\\n",
       "0         4792               0.703828                   0.169685   \n",
       "1         4793               0.690011                   0.209882   \n",
       "2         4794               0.408409                        NaN   \n",
       "3         4795               0.722218                   0.155541   \n",
       "4         4796               0.789009                   0.067967   \n",
       "..         ...                    ...                        ...   \n",
       "118       5545               0.797169                        NaN   \n",
       "119       5546               0.680272                   0.242432   \n",
       "120       5547               0.606838                   0.328976   \n",
       "121       5548               0.749766                   0.183911   \n",
       "122       5549               0.578125                   0.288856   \n",
       "\n",
       "     achieved_percentage  \n",
       "0               0.627119  \n",
       "1               0.676617  \n",
       "2               0.317782  \n",
       "3               0.691139  \n",
       "4               0.825758  \n",
       "..                   ...  \n",
       "118             0.731942  \n",
       "119             0.653061  \n",
       "120             0.538462  \n",
       "121             0.783505  \n",
       "122             0.562500  \n",
       "\n",
       "[123 rows x 4 columns]"
      ]
     },
     "execution_count": 30,
     "metadata": {},
     "output_type": "execute_result"
    }
   ],
   "source": [
    "from functools import reduce\n",
    "\n",
    "df_merged = reduce(\n",
    "    lambda left, right: pd.merge(left, right, on=[\"module_id\"], how=\"outer\"),\n",
    "    [mean_score_percentage, dev_mean_score_percentage, achieved_percentage],\n",
    ")\n",
    "df_merged"
   ]
  },
  {
   "cell_type": "code",
   "execution_count": 31,
   "id": "03588916-bc5a-44ab-ad8b-64437c40a016",
   "metadata": {},
   "outputs": [
    {
     "data": {
      "text/plain": [
       "<Axes: >"
      ]
     },
     "execution_count": 31,
     "metadata": {},
     "output_type": "execute_result"
    },
    {
     "data": {
      "image/png": "[encoded data removed]",
      "text/plain": [
       "<Figure size 640x480 with 2 Axes>"
      ]
     },
     "metadata": {},
     "output_type": "display_data"
    }
   ],
   "source": [
    "df_merged = df_merged.set_index(\"module_id\")\n",
    "sns.heatmap(df_merged.corr())"
   ]
  },
  {
   "cell_type": "code",
   "execution_count": 32,
   "id": "27f2cf2b-d91e-43c5-bc03-17931c0f1278",
   "metadata": {},
   "outputs": [
    {
     "data": {
      "text/html": [
       "<div>\n",
       "<style scoped>\n",
       "    .dataframe tbody tr th:only-of-type {\n",
       "        vertical-align: middle;\n",
       "    }\n",
       "\n",
       "    .dataframe tbody tr th {\n",
       "        vertical-align: top;\n",
       "    }\n",
       "\n",
       "    .dataframe thead th {\n",
       "        text-align: right;\n",
       "    }\n",
       "</style>\n",
       "<table border=\"1\" class=\"dataframe\">\n",
       "  <thead>\n",
       "    <tr style=\"text-align: right;\">\n",
       "      <th></th>\n",
       "      <th>mean_score_percentage</th>\n",
       "      <th>dev_mean_score_percentage</th>\n",
       "      <th>achieved_percentage</th>\n",
       "    </tr>\n",
       "  </thead>\n",
       "  <tbody>\n",
       "    <tr>\n",
       "      <th>mean_score_percentage</th>\n",
       "      <td>1.000000</td>\n",
       "      <td>-0.800697</td>\n",
       "      <td>0.964317</td>\n",
       "    </tr>\n",
       "    <tr>\n",
       "      <th>dev_mean_score_percentage</th>\n",
       "      <td>-0.800697</td>\n",
       "      <td>1.000000</td>\n",
       "      <td>-0.756809</td>\n",
       "    </tr>\n",
       "    <tr>\n",
       "      <th>achieved_percentage</th>\n",
       "      <td>0.964317</td>\n",
       "      <td>-0.756809</td>\n",
       "      <td>1.000000</td>\n",
       "    </tr>\n",
       "  </tbody>\n",
       "</table>\n",
       "</div>"
      ],
      "text/plain": [
       "                           mean_score_percentage  dev_mean_score_percentage  \\\n",
       "mean_score_percentage                   1.000000                  -0.800697   \n",
       "dev_mean_score_percentage              -0.800697                   1.000000   \n",
       "achieved_percentage                     0.964317                  -0.756809   \n",
       "\n",
       "                           achieved_percentage  \n",
       "mean_score_percentage                 0.964317  \n",
       "dev_mean_score_percentage            -0.756809  \n",
       "achieved_percentage                   1.000000  "
      ]
     },
     "execution_count": 32,
     "metadata": {},
     "output_type": "execute_result"
    }
   ],
   "source": [
    "df_merged.corr()"
   ]
  },
  {
   "cell_type": "code",
   "execution_count": 33,
   "id": "0e0ab107-da95-483b-97ac-e192d3a075bf",
   "metadata": {},
   "outputs": [
    {
     "data": {
      "image/png": "[encoded data removed]",
      "text/plain": [
       "<Figure size 640x480 with 1 Axes>"
      ]
     },
     "metadata": {},
     "output_type": "display_data"
    }
   ],
   "source": [
    "fig, ax = plt.subplots()\n",
    "sns.scatterplot(\n",
    "    df_merged, x=\"achieved_percentage\", y=\"dev_mean_score_percentage\", ax=ax\n",
    ")\n",
    "plt.axhline(y=dev_mean_score_percentage_threshold, color=\"g\")\n",
    "plt.axvline(x=achieved_percentage_threshold, color=\"g\")\n",
    "plt.xlabel(\"achieved_percentage\")\n",
    "plt.ylabel(\"dev_mean_score_percentage\");"
   ]
  },
  {
   "cell_type": "markdown",
   "id": "dcca4722-c3e0-40d0-a309-d7177f384c08",
   "metadata": {},
   "source": [
    "## Новые метрики"
   ]
  },
  {
   "cell_type": "markdown",
   "id": "ac6ecdbd-44f7-4b23-b024-421f21fa6ad7",
   "metadata": {
    "jp-MarkdownHeadingCollapsed": true
   },
   "source": [
    "### user_count\n",
    "\n",
    "Количество пользователей, совершивших хотя бы одну попытку в данном модуле"
   ]
  },
  {
   "cell_type": "code",
   "execution_count": 12,
   "id": "f4da69b5-fe31-4922-a97c-dd4ef42a02dc",
   "metadata": {},
   "outputs": [
    {
     "data": {
      "text/html": [
       "<div>\n",
       "<style scoped>\n",
       "    .dataframe tbody tr th:only-of-type {\n",
       "        vertical-align: middle;\n",
       "    }\n",
       "\n",
       "    .dataframe tbody tr th {\n",
       "        vertical-align: top;\n",
       "    }\n",
       "\n",
       "    .dataframe thead th {\n",
       "        text-align: right;\n",
       "    }\n",
       "</style>\n",
       "<table border=\"1\" class=\"dataframe\">\n",
       "  <thead>\n",
       "    <tr style=\"text-align: right;\">\n",
       "      <th></th>\n",
       "      <th>user_count</th>\n",
       "    </tr>\n",
       "    <tr>\n",
       "      <th>course_module_id</th>\n",
       "      <th></th>\n",
       "    </tr>\n",
       "  </thead>\n",
       "  <tbody>\n",
       "    <tr>\n",
       "      <th>4792</th>\n",
       "      <td>236</td>\n",
       "    </tr>\n",
       "    <tr>\n",
       "      <th>4793</th>\n",
       "      <td>201</td>\n",
       "    </tr>\n",
       "    <tr>\n",
       "      <th>4794</th>\n",
       "      <td>1479</td>\n",
       "    </tr>\n",
       "    <tr>\n",
       "      <th>4795</th>\n",
       "      <td>395</td>\n",
       "    </tr>\n",
       "    <tr>\n",
       "      <th>4796</th>\n",
       "      <td>132</td>\n",
       "    </tr>\n",
       "    <tr>\n",
       "      <th>...</th>\n",
       "      <td>...</td>\n",
       "    </tr>\n",
       "    <tr>\n",
       "      <th>5545</th>\n",
       "      <td>1246</td>\n",
       "    </tr>\n",
       "    <tr>\n",
       "      <th>5546</th>\n",
       "      <td>196</td>\n",
       "    </tr>\n",
       "    <tr>\n",
       "      <th>5547</th>\n",
       "      <td>52</td>\n",
       "    </tr>\n",
       "    <tr>\n",
       "      <th>5548</th>\n",
       "      <td>97</td>\n",
       "    </tr>\n",
       "    <tr>\n",
       "      <th>5549</th>\n",
       "      <td>32</td>\n",
       "    </tr>\n",
       "  </tbody>\n",
       "</table>\n",
       "<p>123 rows × 1 columns</p>\n",
       "</div>"
      ],
      "text/plain": [
       "                  user_count\n",
       "course_module_id            \n",
       "4792                     236\n",
       "4793                     201\n",
       "4794                    1479\n",
       "4795                     395\n",
       "4796                     132\n",
       "...                      ...\n",
       "5545                    1246\n",
       "5546                     196\n",
       "5547                      52\n",
       "5548                      97\n",
       "5549                      32\n",
       "\n",
       "[123 rows x 1 columns]"
      ]
     },
     "execution_count": 12,
     "metadata": {},
     "output_type": "execute_result"
    }
   ],
   "source": [
    "df = another_filter_module_progress(user_module_progress, user_element_progress)\n",
    "user_count = df.groupby('course_module_id').agg(user_count=('user_id', pd.Series.nunique))\n",
    "user_count"
   ]
  },
  {
   "cell_type": "code",
   "execution_count": 13,
   "id": "753638a2-cd43-4f00-b8f3-0722ba09142b",
   "metadata": {},
   "outputs": [
    {
     "data": {
      "text/plain": [
       "<Axes: xlabel='user_count', ylabel='Count'>"
      ]
     },
     "execution_count": 13,
     "metadata": {},
     "output_type": "execute_result"
    },
    {
     "data": {
      "image/png": "[encoded data removed]",
      "text/plain": [
       "<Figure size 640x480 with 1 Axes>"
      ]
     },
     "metadata": {},
     "output_type": "display_data"
    }
   ],
   "source": [
    "sns.histplot(user_count['user_count'])"
   ]
  },
  {
   "cell_type": "markdown",
   "id": "9196b63a-d6ac-4132-b4fa-d12fa660d782",
   "metadata": {},
   "source": [
    "### module_mean_time\n",
    "\n",
    "Среднее время, затраченное на модуль.\n",
    "\n",
    "Как считается для одного пользовтеля: \n",
    "1. берем все действия пользователя по задачам в данном модуле из solution_log\n",
    "2. берем все действия по текстам/видео из user_element_progress\n",
    "3. сортируем по времени\n",
    "4. считаем колонку `time_delta` - разница между соседними попытками\n",
    "5. суммируем все `time_delta`, которые < 40 минут (принятая нами длина пользовательской сессии)"
   ]
  },
  {
   "cell_type": "code",
   "execution_count": 13,
   "id": "824c90f3-53bc-484f-aaf7-32eefe298321",
   "metadata": {},
   "outputs": [],
   "source": [
    "import warnings\n",
    "warnings.filterwarnings(\"ignore\")"
   ]
  },
  {
   "cell_type": "code",
   "execution_count": 14,
   "id": "76d094f9-6a43-47fb-a03e-baff21475786",
   "metadata": {},
   "outputs": [],
   "source": [
    "element_progress = user_element_progress[['user_id', 'course_element_type', 'course_module_id', 'time_achieved']]\n",
    "element_progress['element_progress_id'] = user_element_progress['id']"
   ]
  },
  {
   "cell_type": "code",
   "execution_count": 15,
   "id": "21581d00-8677-4444-b007-fbb24dec3384",
   "metadata": {},
   "outputs": [],
   "source": [
    "log = solution_log[['id', 'element_progress_id', 'submission_time']]"
   ]
  },
  {
   "cell_type": "code",
   "execution_count": 16,
   "id": "b3693a4f-33ab-408d-a189-5b9e4e9cf40a",
   "metadata": {},
   "outputs": [],
   "source": [
    "df = log.merge(element_progress, on='element_progress_id', how='outer')"
   ]
  },
  {
   "cell_type": "code",
   "execution_count": 17,
   "id": "2dee3272-1a0d-40f3-b473-06874b38b82d",
   "metadata": {},
   "outputs": [],
   "source": [
    "columns = ['course_module_id', 'user_id', 'action_time']\n",
    "\n",
    "no_tasks = df[df['course_element_type'] != 'task']\n",
    "no_tasks['action_time'] = no_tasks['time_achieved']\n",
    "no_tasks = no_tasks[columns].dropna()\n",
    "# no_tasks"
   ]
  },
  {
   "cell_type": "code",
   "execution_count": 18,
   "id": "93a0c95a-df16-4966-8e1c-14217f48766c",
   "metadata": {},
   "outputs": [],
   "source": [
    "tasks = df[df['course_element_type'] == 'task']\n",
    "tasks['action_time'] = tasks['submission_time']\n",
    "tasks = tasks[columns].dropna()\n",
    "# tasks"
   ]
  },
  {
   "cell_type": "code",
   "execution_count": 19,
   "id": "42ff89b1-7d11-4fae-9490-7878491b1f91",
   "metadata": {},
   "outputs": [],
   "source": [
    "actions = pd.concat([tasks, no_tasks])\n",
    "# actions"
   ]
  },
  {
   "cell_type": "code",
   "execution_count": 20,
   "id": "87e739ce-d7d6-420c-a3d9-87658f082849",
   "metadata": {},
   "outputs": [
    {
     "name": "stderr",
     "output_type": "stream",
     "text": [
      "100%|██████████████████████████████████| 108690/108690 [01:50<00:00, 983.12it/s]\n"
     ]
    }
   ],
   "source": [
    "from datetime import timedelta\n",
    "from tqdm import tqdm\n",
    "\n",
    "\n",
    "max_delta = timedelta(minutes=40)\n",
    "module_times = {}\n",
    "\n",
    "for name, group in tqdm(actions.groupby(['course_module_id', 'user_id'])):\n",
    "    group = group.sort_values(by='action_time')\n",
    "    group['action_time'] = pd.to_datetime(group['action_time'])\n",
    "    group['time_delta'] = group['action_time'] - group['action_time'].shift()\n",
    "    group = group[group['time_delta'] < max_delta]\n",
    "    if name[0] in module_times.keys():\n",
    "        module_times[name[0]].append(group['time_delta'].sum())\n",
    "    else:\n",
    "        module_times[name[0]] = [group['time_delta'].sum()]"
   ]
  },
  {
   "cell_type": "code",
   "execution_count": 21,
   "id": "5879baa5-eeda-46d3-8feb-eac662018e85",
   "metadata": {},
   "outputs": [],
   "source": [
    "for module in module_times.keys():\n",
    "    module_times[module] = np.mean(module_times[module])"
   ]
  },
  {
   "cell_type": "code",
   "execution_count": 22,
   "id": "d6fc6a8f-5126-4e1a-b8be-ace39782e260",
   "metadata": {},
   "outputs": [],
   "source": [
    "mean_module_time = pd.DataFrame({'module_id': module_times.keys(), 'mean_time': module_times.values()})"
   ]
  },
  {
   "cell_type": "code",
   "execution_count": 23,
   "id": "57e1253e-9b60-4daf-b0a8-7244d6c817d7",
   "metadata": {},
   "outputs": [],
   "source": [
    "mean_module_time['mean_time_minutes'] = mean_module_time['mean_time'].apply(lambda x: x.total_seconds()/60)"
   ]
  },
  {
   "cell_type": "code",
   "execution_count": 51,
   "id": "6012ac92-4a5a-4e46-9664-977778bd9b5d",
   "metadata": {},
   "outputs": [
    {
     "data": {
      "image/png": "[encoded data removed]",
      "text/plain": [
       "<Figure size 640x480 with 1 Axes>"
      ]
     },
     "metadata": {},
     "output_type": "display_data"
    }
   ],
   "source": [
    "fig, ax = plt.subplots()\n",
    "sns.histplot(mean_module_time['mean_time_minutes'], binwidth=5, ax=ax)\n",
    "plt.xticks(np.arange(0, 200, 15));"
   ]
  },
  {
   "cell_type": "code",
   "execution_count": 53,
   "id": "4d242abf-80fd-4efc-94a4-7616266dc5c8",
   "metadata": {},
   "outputs": [
    {
     "name": "stdout",
     "output_type": "stream",
     "text": [
      "15.45 % модулей мы считаем сложными\n"
     ]
    }
   ],
   "source": [
    "mean_module_time_threshold = 80\n",
    "\n",
    "difficult_percentage = np.count_nonzero(\n",
    "    mean_module_time[\"mean_time_minutes\"] > mean_module_time_threshold\n",
    ") / len(mean_module_time)\n",
    "print(\"{:.2f}\".format(difficult_percentage * 100), \"% модулей мы считаем сложными\")"
   ]
  },
  {
   "cell_type": "code",
   "execution_count": 25,
   "id": "1352b862-56e0-417e-9873-fdaa01bf1dac",
   "metadata": {},
   "outputs": [
    {
     "data": {
      "text/html": [
       "<div>\n",
       "<style scoped>\n",
       "    .dataframe tbody tr th:only-of-type {\n",
       "        vertical-align: middle;\n",
       "    }\n",
       "\n",
       "    .dataframe tbody tr th {\n",
       "        vertical-align: top;\n",
       "    }\n",
       "\n",
       "    .dataframe thead th {\n",
       "        text-align: right;\n",
       "    }\n",
       "</style>\n",
       "<table border=\"1\" class=\"dataframe\">\n",
       "  <thead>\n",
       "    <tr style=\"text-align: right;\">\n",
       "      <th></th>\n",
       "      <th>module_id</th>\n",
       "      <th>mean_time</th>\n",
       "      <th>mean_time_minutes</th>\n",
       "    </tr>\n",
       "  </thead>\n",
       "  <tbody>\n",
       "    <tr>\n",
       "      <th>0</th>\n",
       "      <td>4792</td>\n",
       "      <td>0 days 01:57:09.562220308</td>\n",
       "      <td>117.159370</td>\n",
       "    </tr>\n",
       "    <tr>\n",
       "      <th>1</th>\n",
       "      <td>4793</td>\n",
       "      <td>0 days 03:09:12.465345901</td>\n",
       "      <td>189.207756</td>\n",
       "    </tr>\n",
       "    <tr>\n",
       "      <th>2</th>\n",
       "      <td>4794</td>\n",
       "      <td>0 days 00:52:15.365999027</td>\n",
       "      <td>52.256100</td>\n",
       "    </tr>\n",
       "    <tr>\n",
       "      <th>3</th>\n",
       "      <td>4795</td>\n",
       "      <td>0 days 02:41:22.319082527</td>\n",
       "      <td>161.371985</td>\n",
       "    </tr>\n",
       "    <tr>\n",
       "      <th>4</th>\n",
       "      <td>4796</td>\n",
       "      <td>0 days 02:29:00.528604350</td>\n",
       "      <td>149.008810</td>\n",
       "    </tr>\n",
       "    <tr>\n",
       "      <th>...</th>\n",
       "      <td>...</td>\n",
       "      <td>...</td>\n",
       "      <td>...</td>\n",
       "    </tr>\n",
       "    <tr>\n",
       "      <th>118</th>\n",
       "      <td>5545</td>\n",
       "      <td>0 days 00:56:21.245732334</td>\n",
       "      <td>56.354096</td>\n",
       "    </tr>\n",
       "    <tr>\n",
       "      <th>119</th>\n",
       "      <td>5546</td>\n",
       "      <td>0 days 00:30:26.991800144</td>\n",
       "      <td>30.449863</td>\n",
       "    </tr>\n",
       "    <tr>\n",
       "      <th>120</th>\n",
       "      <td>5547</td>\n",
       "      <td>0 days 00:39:47.781753012</td>\n",
       "      <td>39.796363</td>\n",
       "    </tr>\n",
       "    <tr>\n",
       "      <th>121</th>\n",
       "      <td>5548</td>\n",
       "      <td>0 days 00:52:04.221874304</td>\n",
       "      <td>52.070365</td>\n",
       "    </tr>\n",
       "    <tr>\n",
       "      <th>122</th>\n",
       "      <td>5549</td>\n",
       "      <td>0 days 00:43:48.359632937</td>\n",
       "      <td>43.805994</td>\n",
       "    </tr>\n",
       "  </tbody>\n",
       "</table>\n",
       "<p>123 rows × 3 columns</p>\n",
       "</div>"
      ],
      "text/plain": [
       "     module_id                 mean_time  mean_time_minutes\n",
       "0         4792 0 days 01:57:09.562220308         117.159370\n",
       "1         4793 0 days 03:09:12.465345901         189.207756\n",
       "2         4794 0 days 00:52:15.365999027          52.256100\n",
       "3         4795 0 days 02:41:22.319082527         161.371985\n",
       "4         4796 0 days 02:29:00.528604350         149.008810\n",
       "..         ...                       ...                ...\n",
       "118       5545 0 days 00:56:21.245732334          56.354096\n",
       "119       5546 0 days 00:30:26.991800144          30.449863\n",
       "120       5547 0 days 00:39:47.781753012          39.796363\n",
       "121       5548 0 days 00:52:04.221874304          52.070365\n",
       "122       5549 0 days 00:43:48.359632937          43.805994\n",
       "\n",
       "[123 rows x 3 columns]"
      ]
     },
     "execution_count": 25,
     "metadata": {},
     "output_type": "execute_result"
    }
   ],
   "source": [
    "mean_module_time"
   ]
  },
  {
   "cell_type": "markdown",
   "id": "441ac2ea-815e-43a7-8910-388111439d76",
   "metadata": {},
   "source": [
    "#### Связь времени на модуль и количества элементов в модуле"
   ]
  },
  {
   "cell_type": "code",
   "execution_count": 31,
   "id": "a3694ec9-ec4a-4d81-a3d6-195e6b1b9fd9",
   "metadata": {},
   "outputs": [],
   "source": [
    "module_element_count = course_element.groupby('module_id').agg({'element_id': 'count'}).reset_index()"
   ]
  },
  {
   "cell_type": "code",
   "execution_count": 36,
   "id": "7505c855-d192-43c2-bfe7-233cefe8fb63",
   "metadata": {},
   "outputs": [],
   "source": [
    "time_df = mean_module_time.merge(module_element_count, on='module_id', how='left')"
   ]
  },
  {
   "cell_type": "code",
   "execution_count": 38,
   "id": "4aa3c2df-45b3-476c-9633-838d660ceb1d",
   "metadata": {},
   "outputs": [],
   "source": [
    "time_df = time_df.set_index('module_id')[['mean_time_minutes', 'element_id']].rename(columns={'element_id':'count'})"
   ]
  },
  {
   "cell_type": "code",
   "execution_count": 40,
   "id": "28ef45a9-21a7-48b2-b1c6-c147bf1c1724",
   "metadata": {},
   "outputs": [
    {
     "data": {
      "text/html": [
       "<div>\n",
       "<style scoped>\n",
       "    .dataframe tbody tr th:only-of-type {\n",
       "        vertical-align: middle;\n",
       "    }\n",
       "\n",
       "    .dataframe tbody tr th {\n",
       "        vertical-align: top;\n",
       "    }\n",
       "\n",
       "    .dataframe thead th {\n",
       "        text-align: right;\n",
       "    }\n",
       "</style>\n",
       "<table border=\"1\" class=\"dataframe\">\n",
       "  <thead>\n",
       "    <tr style=\"text-align: right;\">\n",
       "      <th></th>\n",
       "      <th>mean_time_minutes</th>\n",
       "      <th>count</th>\n",
       "    </tr>\n",
       "    <tr>\n",
       "      <th>module_id</th>\n",
       "      <th></th>\n",
       "      <th></th>\n",
       "    </tr>\n",
       "  </thead>\n",
       "  <tbody>\n",
       "    <tr>\n",
       "      <th>4792</th>\n",
       "      <td>117.159370</td>\n",
       "      <td>35</td>\n",
       "    </tr>\n",
       "    <tr>\n",
       "      <th>4793</th>\n",
       "      <td>189.207756</td>\n",
       "      <td>52</td>\n",
       "    </tr>\n",
       "    <tr>\n",
       "      <th>4794</th>\n",
       "      <td>52.256100</td>\n",
       "      <td>31</td>\n",
       "    </tr>\n",
       "    <tr>\n",
       "      <th>4795</th>\n",
       "      <td>161.371985</td>\n",
       "      <td>69</td>\n",
       "    </tr>\n",
       "    <tr>\n",
       "      <th>4796</th>\n",
       "      <td>149.008810</td>\n",
       "      <td>52</td>\n",
       "    </tr>\n",
       "  </tbody>\n",
       "</table>\n",
       "</div>"
      ],
      "text/plain": [
       "           mean_time_minutes  count\n",
       "module_id                          \n",
       "4792              117.159370     35\n",
       "4793              189.207756     52\n",
       "4794               52.256100     31\n",
       "4795              161.371985     69\n",
       "4796              149.008810     52"
      ]
     },
     "execution_count": 40,
     "metadata": {},
     "output_type": "execute_result"
    }
   ],
   "source": [
    "time_df.head()"
   ]
  },
  {
   "cell_type": "code",
   "execution_count": 41,
   "id": "90cd73ce-60ea-4cc3-96ba-94f26a07f90d",
   "metadata": {},
   "outputs": [
    {
     "data": {
      "text/html": [
       "<div>\n",
       "<style scoped>\n",
       "    .dataframe tbody tr th:only-of-type {\n",
       "        vertical-align: middle;\n",
       "    }\n",
       "\n",
       "    .dataframe tbody tr th {\n",
       "        vertical-align: top;\n",
       "    }\n",
       "\n",
       "    .dataframe thead th {\n",
       "        text-align: right;\n",
       "    }\n",
       "</style>\n",
       "<table border=\"1\" class=\"dataframe\">\n",
       "  <thead>\n",
       "    <tr style=\"text-align: right;\">\n",
       "      <th></th>\n",
       "      <th>mean_time_minutes</th>\n",
       "      <th>count</th>\n",
       "    </tr>\n",
       "  </thead>\n",
       "  <tbody>\n",
       "    <tr>\n",
       "      <th>mean_time_minutes</th>\n",
       "      <td>1.000000</td>\n",
       "      <td>0.811355</td>\n",
       "    </tr>\n",
       "    <tr>\n",
       "      <th>count</th>\n",
       "      <td>0.811355</td>\n",
       "      <td>1.000000</td>\n",
       "    </tr>\n",
       "  </tbody>\n",
       "</table>\n",
       "</div>"
      ],
      "text/plain": [
       "                   mean_time_minutes     count\n",
       "mean_time_minutes           1.000000  0.811355\n",
       "count                       0.811355  1.000000"
      ]
     },
     "execution_count": 41,
     "metadata": {},
     "output_type": "execute_result"
    }
   ],
   "source": [
    "time_df.corr()"
   ]
  },
  {
   "cell_type": "code",
   "execution_count": 42,
   "id": "1d8b6457-e0b9-4fad-82a3-02510c426a5c",
   "metadata": {},
   "outputs": [
    {
     "name": "stdout",
     "output_type": "stream",
     "text": [
      "count mean_time_minutes\n"
     ]
    },
    {
     "data": {
      "image/png": "[encoded data removed]",
      "text/plain": [
       "<Figure size 640x480 with 1 Axes>"
      ]
     },
     "metadata": {},
     "output_type": "display_data"
    }
   ],
   "source": [
    "fig, ax = plt.subplots()\n",
    "sns.scatterplot(\n",
    "    time_df, x=\"count\", y=\"mean_time_minutes\", ax=ax\n",
    ")\n",
    "print(\"count\", \"mean_time_minutes\")\n",
    "# plt.axhline(y=4, color=\"g\")\n",
    "# plt.axvline(x=achieved_percentage_threshold, color=\"g\")\n",
    "plt.xlabel(\"count\")\n",
    "plt.ylabel(\"mean_time\");"
   ]
  },
  {
   "cell_type": "code",
   "execution_count": 46,
   "id": "01d3cf27-e98e-4d49-84e3-36af2e19ac51",
   "metadata": {},
   "outputs": [
    {
     "data": {
      "text/plain": [
       "<Axes: ylabel='Count'>"
      ]
     },
     "execution_count": 46,
     "metadata": {},
     "output_type": "execute_result"
    },
    {
     "data": {
      "image/png": "[encoded data removed]",
      "text/plain": [
       "<Figure size 640x480 with 1 Axes>"
      ]
     },
     "metadata": {},
     "output_type": "display_data"
    }
   ],
   "source": [
    "sns.histplot(time_df['mean_time_minutes']/time_df['count'], binwidth=0.25)"
   ]
  },
  {
   "cell_type": "markdown",
   "id": "e2b68116-576c-4d61-aeb5-d83a4e1afb0f",
   "metadata": {},
   "source": [
    "### Линейные связи с метриками Евгении"
   ]
  },
  {
   "cell_type": "code",
   "execution_count": 34,
   "id": "dc961487-2865-420f-90e8-b788a7bc8481",
   "metadata": {},
   "outputs": [],
   "source": [
    "def trivial_module_metric():\n",
    "    ml_tasks = user_element_progress[(user_element_progress[\"course_element_type\"] == \"task\") &\n",
    "                                                (user_element_progress[\"achieve_reason\"] != \"transferred\") ]\n",
    "     \n",
    "    modules = np.unique(np.array(ml_tasks['course_module_id']))\n",
    "    metric_values = {}\n",
    "    for module_id in modules:\n",
    "        tasks_module = ml_tasks[ml_tasks['course_module_id'] == module_id]\n",
    "        users = np.unique(np.array(tasks_module['user_id']))\n",
    "        percent_for_user = []\n",
    "        for user in users:\n",
    "            user_tasks = tasks_module[tasks_module['user_id'] == user]\n",
    "            achieved_tasks = user_tasks[user_tasks['is_achieved'] == True]\n",
    "            percent_for_user.append(len(achieved_tasks) / len(user_tasks))\n",
    "        metric_values[module_id] = round(np.mean(percent_for_user), 2)\n",
    "    return metric_values"
   ]
  },
  {
   "cell_type": "code",
   "execution_count": 35,
   "id": "1f8ddd69-4f57-4bbe-afaf-a05f6b4a6532",
   "metadata": {},
   "outputs": [],
   "source": [
    "dict = trivial_module_metric()"
   ]
  },
  {
   "cell_type": "code",
   "execution_count": 38,
   "id": "870a7f7a-5486-41df-9d5d-e71bc71c7a89",
   "metadata": {},
   "outputs": [],
   "source": [
    "solved = pd.DataFrame({'module_id': dict.keys(), 'solved_tasks_percentage': dict.values()})"
   ]
  },
  {
   "cell_type": "code",
   "execution_count": 39,
   "id": "5682028c-0a8e-4da2-a23e-44cb9260585f",
   "metadata": {},
   "outputs": [],
   "source": [
    "def average_tries_count():\n",
    "    ml_tasks = user_element_progress[(user_element_progress[\"course_element_type\"] == \"task\") &\n",
    "                                            (user_element_progress[\"achieve_reason\"] != \"transferred\") ]\n",
    "    modules = np.unique(np.array(ml_tasks['course_module_id']))\n",
    "    metric_values = {}\n",
    "    for module_id in modules:\n",
    "        tasks_module = ml_tasks[ml_tasks['course_module_id'] == module_id]\n",
    "        users = np.unique(np.array(tasks_module['user_id']))\n",
    "        avg_tries_for_user = []\n",
    "        for user in users:\n",
    "            user_tasks = tasks_module[(tasks_module['user_id'] == user) & (tasks_module['tries_count'] > 0)]\n",
    "            all_tries = np.array(user_tasks['tries_count']).sum()\n",
    "            if len(user_tasks) != 0:\n",
    "                avg_tries_for_user.append(all_tries / len(user_tasks))\n",
    "        metric_values[module_id] = round(np.mean(avg_tries_for_user), 2)\n",
    "    return metric_values"
   ]
  },
  {
   "cell_type": "code",
   "execution_count": 40,
   "id": "8a76d0e2-9dc7-4a6f-a366-fb621460ed93",
   "metadata": {},
   "outputs": [],
   "source": [
    "dict = average_tries_count()"
   ]
  },
  {
   "cell_type": "code",
   "execution_count": 41,
   "id": "5a0c4b7a-480b-4132-989f-8cc0988aa50c",
   "metadata": {},
   "outputs": [],
   "source": [
    "mean_tries = pd.DataFrame({'module_id': dict.keys(), 'module_mean_tries': dict.values()})"
   ]
  },
  {
   "cell_type": "code",
   "execution_count": 42,
   "id": "afbd7f73-526b-48be-8640-8f51564263aa",
   "metadata": {},
   "outputs": [
    {
     "data": {
      "text/html": [
       "<div>\n",
       "<style scoped>\n",
       "    .dataframe tbody tr th:only-of-type {\n",
       "        vertical-align: middle;\n",
       "    }\n",
       "\n",
       "    .dataframe tbody tr th {\n",
       "        vertical-align: top;\n",
       "    }\n",
       "\n",
       "    .dataframe thead th {\n",
       "        text-align: right;\n",
       "    }\n",
       "</style>\n",
       "<table border=\"1\" class=\"dataframe\">\n",
       "  <thead>\n",
       "    <tr style=\"text-align: right;\">\n",
       "      <th></th>\n",
       "      <th>module_id</th>\n",
       "      <th>module_mean_tries</th>\n",
       "    </tr>\n",
       "  </thead>\n",
       "  <tbody>\n",
       "    <tr>\n",
       "      <th>0</th>\n",
       "      <td>4792</td>\n",
       "      <td>5.07</td>\n",
       "    </tr>\n",
       "    <tr>\n",
       "      <th>1</th>\n",
       "      <td>4793</td>\n",
       "      <td>8.86</td>\n",
       "    </tr>\n",
       "    <tr>\n",
       "      <th>2</th>\n",
       "      <td>4794</td>\n",
       "      <td>3.49</td>\n",
       "    </tr>\n",
       "    <tr>\n",
       "      <th>3</th>\n",
       "      <td>4795</td>\n",
       "      <td>3.01</td>\n",
       "    </tr>\n",
       "    <tr>\n",
       "      <th>4</th>\n",
       "      <td>4796</td>\n",
       "      <td>5.15</td>\n",
       "    </tr>\n",
       "    <tr>\n",
       "      <th>...</th>\n",
       "      <td>...</td>\n",
       "      <td>...</td>\n",
       "    </tr>\n",
       "    <tr>\n",
       "      <th>118</th>\n",
       "      <td>5545</td>\n",
       "      <td>1.67</td>\n",
       "    </tr>\n",
       "    <tr>\n",
       "      <th>119</th>\n",
       "      <td>5546</td>\n",
       "      <td>2.81</td>\n",
       "    </tr>\n",
       "    <tr>\n",
       "      <th>120</th>\n",
       "      <td>5547</td>\n",
       "      <td>6.48</td>\n",
       "    </tr>\n",
       "    <tr>\n",
       "      <th>121</th>\n",
       "      <td>5548</td>\n",
       "      <td>3.70</td>\n",
       "    </tr>\n",
       "    <tr>\n",
       "      <th>122</th>\n",
       "      <td>5549</td>\n",
       "      <td>7.30</td>\n",
       "    </tr>\n",
       "  </tbody>\n",
       "</table>\n",
       "<p>123 rows × 2 columns</p>\n",
       "</div>"
      ],
      "text/plain": [
       "     module_id  module_mean_tries\n",
       "0         4792               5.07\n",
       "1         4793               8.86\n",
       "2         4794               3.49\n",
       "3         4795               3.01\n",
       "4         4796               5.15\n",
       "..         ...                ...\n",
       "118       5545               1.67\n",
       "119       5546               2.81\n",
       "120       5547               6.48\n",
       "121       5548               3.70\n",
       "122       5549               7.30\n",
       "\n",
       "[123 rows x 2 columns]"
      ]
     },
     "execution_count": 42,
     "metadata": {},
     "output_type": "execute_result"
    }
   ],
   "source": [
    "mean_tries"
   ]
  },
  {
   "cell_type": "code",
   "execution_count": 45,
   "id": "d8a6bac5-9ace-4731-99f3-b9e4362f7b5e",
   "metadata": {},
   "outputs": [
    {
     "data": {
      "text/html": [
       "<div>\n",
       "<style scoped>\n",
       "    .dataframe tbody tr th:only-of-type {\n",
       "        vertical-align: middle;\n",
       "    }\n",
       "\n",
       "    .dataframe tbody tr th {\n",
       "        vertical-align: top;\n",
       "    }\n",
       "\n",
       "    .dataframe thead th {\n",
       "        text-align: right;\n",
       "    }\n",
       "</style>\n",
       "<table border=\"1\" class=\"dataframe\">\n",
       "  <thead>\n",
       "    <tr style=\"text-align: right;\">\n",
       "      <th></th>\n",
       "      <th>module_id</th>\n",
       "      <th>achieved_percentage</th>\n",
       "      <th>mean_time_minutes</th>\n",
       "      <th>solved_tasks_percentage</th>\n",
       "      <th>module_mean_tries</th>\n",
       "    </tr>\n",
       "  </thead>\n",
       "  <tbody>\n",
       "    <tr>\n",
       "      <th>0</th>\n",
       "      <td>4792</td>\n",
       "      <td>0.627119</td>\n",
       "      <td>117.159370</td>\n",
       "      <td>0.35</td>\n",
       "      <td>5.07</td>\n",
       "    </tr>\n",
       "    <tr>\n",
       "      <th>1</th>\n",
       "      <td>4793</td>\n",
       "      <td>0.676617</td>\n",
       "      <td>189.207756</td>\n",
       "      <td>0.32</td>\n",
       "      <td>8.86</td>\n",
       "    </tr>\n",
       "    <tr>\n",
       "      <th>2</th>\n",
       "      <td>4794</td>\n",
       "      <td>0.317782</td>\n",
       "      <td>52.256100</td>\n",
       "      <td>0.10</td>\n",
       "      <td>3.49</td>\n",
       "    </tr>\n",
       "    <tr>\n",
       "      <th>3</th>\n",
       "      <td>4795</td>\n",
       "      <td>0.691139</td>\n",
       "      <td>161.371985</td>\n",
       "      <td>0.32</td>\n",
       "      <td>3.01</td>\n",
       "    </tr>\n",
       "    <tr>\n",
       "      <th>4</th>\n",
       "      <td>4796</td>\n",
       "      <td>0.825758</td>\n",
       "      <td>149.008810</td>\n",
       "      <td>0.37</td>\n",
       "      <td>5.15</td>\n",
       "    </tr>\n",
       "    <tr>\n",
       "      <th>...</th>\n",
       "      <td>...</td>\n",
       "      <td>...</td>\n",
       "      <td>...</td>\n",
       "      <td>...</td>\n",
       "      <td>...</td>\n",
       "    </tr>\n",
       "    <tr>\n",
       "      <th>118</th>\n",
       "      <td>5545</td>\n",
       "      <td>0.731942</td>\n",
       "      <td>56.354096</td>\n",
       "      <td>0.08</td>\n",
       "      <td>1.67</td>\n",
       "    </tr>\n",
       "    <tr>\n",
       "      <th>119</th>\n",
       "      <td>5546</td>\n",
       "      <td>0.653061</td>\n",
       "      <td>30.449863</td>\n",
       "      <td>0.23</td>\n",
       "      <td>2.81</td>\n",
       "    </tr>\n",
       "    <tr>\n",
       "      <th>120</th>\n",
       "      <td>5547</td>\n",
       "      <td>0.538462</td>\n",
       "      <td>39.796363</td>\n",
       "      <td>0.23</td>\n",
       "      <td>6.48</td>\n",
       "    </tr>\n",
       "    <tr>\n",
       "      <th>121</th>\n",
       "      <td>5548</td>\n",
       "      <td>0.783505</td>\n",
       "      <td>52.070365</td>\n",
       "      <td>0.51</td>\n",
       "      <td>3.70</td>\n",
       "    </tr>\n",
       "    <tr>\n",
       "      <th>122</th>\n",
       "      <td>5549</td>\n",
       "      <td>0.562500</td>\n",
       "      <td>43.805994</td>\n",
       "      <td>0.25</td>\n",
       "      <td>7.30</td>\n",
       "    </tr>\n",
       "  </tbody>\n",
       "</table>\n",
       "<p>123 rows × 5 columns</p>\n",
       "</div>"
      ],
      "text/plain": [
       "     module_id  achieved_percentage  mean_time_minutes  \\\n",
       "0         4792             0.627119         117.159370   \n",
       "1         4793             0.676617         189.207756   \n",
       "2         4794             0.317782          52.256100   \n",
       "3         4795             0.691139         161.371985   \n",
       "4         4796             0.825758         149.008810   \n",
       "..         ...                  ...                ...   \n",
       "118       5545             0.731942          56.354096   \n",
       "119       5546             0.653061          30.449863   \n",
       "120       5547             0.538462          39.796363   \n",
       "121       5548             0.783505          52.070365   \n",
       "122       5549             0.562500          43.805994   \n",
       "\n",
       "     solved_tasks_percentage  module_mean_tries  \n",
       "0                       0.35               5.07  \n",
       "1                       0.32               8.86  \n",
       "2                       0.10               3.49  \n",
       "3                       0.32               3.01  \n",
       "4                       0.37               5.15  \n",
       "..                       ...                ...  \n",
       "118                     0.08               1.67  \n",
       "119                     0.23               2.81  \n",
       "120                     0.23               6.48  \n",
       "121                     0.51               3.70  \n",
       "122                     0.25               7.30  \n",
       "\n",
       "[123 rows x 5 columns]"
      ]
     },
     "execution_count": 45,
     "metadata": {},
     "output_type": "execute_result"
    }
   ],
   "source": [
    "from functools import reduce\n",
    "\n",
    "df_merged = reduce(\n",
    "    lambda left, right: pd.merge(left, right, on=[\"module_id\"], how=\"outer\"),\n",
    "    [achieved_percentage, mean_module_time, solved, mean_tries],\n",
    ")\n",
    "df_merged = df_merged.drop(columns='mean_time')\n",
    "df_merged"
   ]
  },
  {
   "cell_type": "code",
   "execution_count": 46,
   "id": "8ee3946e-b182-4571-912e-efcc28c1414e",
   "metadata": {},
   "outputs": [
    {
     "data": {
      "text/plain": [
       "<Axes: >"
      ]
     },
     "execution_count": 46,
     "metadata": {},
     "output_type": "execute_result"
    },
    {
     "data": {
      "image/png": "[encoded data removed]",
      "text/plain": [
       "<Figure size 640x480 with 2 Axes>"
      ]
     },
     "metadata": {},
     "output_type": "display_data"
    }
   ],
   "source": [
    "df_merged = df_merged.set_index(\"module_id\")\n",
    "sns.heatmap(df_merged.corr(), vmin=-1, vmax=1)"
   ]
  },
  {
   "cell_type": "code",
   "execution_count": 47,
   "id": "0406f508-f44b-45a0-9a50-e650eecbb07d",
   "metadata": {},
   "outputs": [
    {
     "data": {
      "text/html": [
       "<div>\n",
       "<style scoped>\n",
       "    .dataframe tbody tr th:only-of-type {\n",
       "        vertical-align: middle;\n",
       "    }\n",
       "\n",
       "    .dataframe tbody tr th {\n",
       "        vertical-align: top;\n",
       "    }\n",
       "\n",
       "    .dataframe thead th {\n",
       "        text-align: right;\n",
       "    }\n",
       "</style>\n",
       "<table border=\"1\" class=\"dataframe\">\n",
       "  <thead>\n",
       "    <tr style=\"text-align: right;\">\n",
       "      <th></th>\n",
       "      <th>achieved_percentage</th>\n",
       "      <th>mean_time_minutes</th>\n",
       "      <th>solved_tasks_percentage</th>\n",
       "      <th>module_mean_tries</th>\n",
       "    </tr>\n",
       "  </thead>\n",
       "  <tbody>\n",
       "    <tr>\n",
       "      <th>achieved_percentage</th>\n",
       "      <td>1.000000</td>\n",
       "      <td>0.047056</td>\n",
       "      <td>0.726323</td>\n",
       "      <td>-0.537049</td>\n",
       "    </tr>\n",
       "    <tr>\n",
       "      <th>mean_time_minutes</th>\n",
       "      <td>0.047056</td>\n",
       "      <td>1.000000</td>\n",
       "      <td>0.059932</td>\n",
       "      <td>0.258512</td>\n",
       "    </tr>\n",
       "    <tr>\n",
       "      <th>solved_tasks_percentage</th>\n",
       "      <td>0.726323</td>\n",
       "      <td>0.059932</td>\n",
       "      <td>1.000000</td>\n",
       "      <td>-0.341578</td>\n",
       "    </tr>\n",
       "    <tr>\n",
       "      <th>module_mean_tries</th>\n",
       "      <td>-0.537049</td>\n",
       "      <td>0.258512</td>\n",
       "      <td>-0.341578</td>\n",
       "      <td>1.000000</td>\n",
       "    </tr>\n",
       "  </tbody>\n",
       "</table>\n",
       "</div>"
      ],
      "text/plain": [
       "                         achieved_percentage  mean_time_minutes  \\\n",
       "achieved_percentage                 1.000000           0.047056   \n",
       "mean_time_minutes                   0.047056           1.000000   \n",
       "solved_tasks_percentage             0.726323           0.059932   \n",
       "module_mean_tries                  -0.537049           0.258512   \n",
       "\n",
       "                         solved_tasks_percentage  module_mean_tries  \n",
       "achieved_percentage                     0.726323          -0.537049  \n",
       "mean_time_minutes                       0.059932           0.258512  \n",
       "solved_tasks_percentage                 1.000000          -0.341578  \n",
       "module_mean_tries                      -0.341578           1.000000  "
      ]
     },
     "execution_count": 47,
     "metadata": {},
     "output_type": "execute_result"
    }
   ],
   "source": [
    "df_merged.corr()"
   ]
  },
  {
   "cell_type": "code",
   "execution_count": 54,
   "id": "a15f09e7-1916-44bf-b417-f48771a25d5b",
   "metadata": {},
   "outputs": [
    {
     "name": "stdout",
     "output_type": "stream",
     "text": [
      "achieved_percentage module_mean_tries\n"
     ]
    },
    {
     "data": {
      "image/png": "[encoded data removed]",
      "text/plain": [
       "<Figure size 640x480 with 1 Axes>"
      ]
     },
     "metadata": {},
     "output_type": "display_data"
    }
   ],
   "source": [
    "fig, ax = plt.subplots()\n",
    "sns.scatterplot(\n",
    "    df_merged, x=\"achieved_percentage\", y=\"module_mean_tries\", ax=ax\n",
    ")\n",
    "print(\"achieved_percentage\", \"module_mean_tries\")\n",
    "plt.axhline(y=4, color=\"g\")\n",
    "plt.axvline(x=achieved_percentage_threshold, color=\"g\")\n",
    "plt.xlabel(\"achieved_percentage\")\n",
    "plt.ylabel(\"module_mean_tries\");"
   ]
  },
  {
   "cell_type": "code",
   "execution_count": 55,
   "id": "40aa0ac1-b0fa-4b4a-9fe2-b738ff2537da",
   "metadata": {},
   "outputs": [
    {
     "name": "stdout",
     "output_type": "stream",
     "text": [
      "achieved_percentage solved_tasks_percentage\n"
     ]
    },
    {
     "data": {
      "image/png": "[encoded data removed]",
      "text/plain": [
       "<Figure size 640x480 with 1 Axes>"
      ]
     },
     "metadata": {},
     "output_type": "display_data"
    }
   ],
   "source": [
    "fig, ax = plt.subplots()\n",
    "sns.scatterplot(\n",
    "    df_merged, x=\"achieved_percentage\", y=\"solved_tasks_percentage\", ax=ax\n",
    ")\n",
    "print(\"achieved_percentage\", \"solved_tasks_percentage\")\n",
    "plt.axhline(y=0.3, color=\"g\")\n",
    "plt.axvline(x=achieved_percentage_threshold, color=\"g\")\n",
    "plt.xlabel(\"achieved_percentage\")\n",
    "plt.ylabel(\"solved_tasks_percentage\");"
   ]
  },
  {
   "cell_type": "code",
   "execution_count": null,
   "id": "8ed4e95e-7294-47c7-ba69-57dd41326181",
   "metadata": {},
   "outputs": [],
   "source": []
  }
 ],
 "metadata": {
  "kernelspec": {
   "display_name": "Python 3 (ipykernel)",
   "language": "python",
   "name": "python3"
  },
  "language_info": {
   "codemirror_mode": {
    "name": "ipython",
    "version": 3
   },
   "file_extension": ".py",
   "mimetype": "text/x-python",
   "name": "python",
   "nbconvert_exporter": "python",
   "pygments_lexer": "ipython3",
   "version": "3.11.7"
  }
 },
 "nbformat": 4,
 "nbformat_minor": 5
}
