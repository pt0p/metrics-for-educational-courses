{
  "nbformat": 4,
  "nbformat_minor": 0,
  "metadata": {
    "colab": {
      "provenance": []
    },
    "kernelspec": {
      "name": "python3",
      "display_name": "Python 3"
    },
    "language_info": {
      "name": "python"
    }
  },
  "cells": [
    {
      "cell_type": "code",
      "execution_count": null,
      "metadata": {
        "id": "lDsmo4pNpG7r"
      },
      "outputs": [],
      "source": [
        "import seaborn as sns\n",
        "import matplotlib.pyplot as plt\n",
        "import numpy as np\n",
        "import pandas as pd\n",
        "import os"
      ]
    },
    {
      "cell_type": "code",
      "source": [
        "from google.colab import drive\n",
        "drive.mount('/content/drive')"
      ],
      "metadata": {
        "colab": {
          "base_uri": "https://localhost:8080/"
        },
        "id": "ruHWKXQlpHwu",
        "outputId": "ba0cbbc4-17ec-490c-aa9d-dc51fa2c3209"
      },
      "execution_count": null,
      "outputs": [
        {
          "output_type": "stream",
          "name": "stdout",
          "text": [
            "Mounted at /content/drive\n"
          ]
        }
      ]
    },
    {
      "cell_type": "code",
      "source": [
        "path = '/content/drive/MyDrive/Colab Notebooks/sirius courses/courses/courses'\n",
        "\n",
        "def course_info(course_id): #возвращает словарь, где ключи -- названия таблиц, значения -- сами таблицы, для соответствующего курса\n",
        "    course_info = {}\n",
        "    directory = os.fsencode(path + '/' + str(course_id))\n",
        "    for file in os.listdir(directory):\n",
        "        filename = os.fsdecode(file)\n",
        "        course_info[filename[:-4]] = pd.read_csv(path + '/' + str(course_id) + '/' + filename, index_col=False)\n",
        "    return course_info\n",
        "\n",
        "def dict_union(dict1, dict2):\n",
        "    new_dict = {}\n",
        "    for key in dict1.keys():\n",
        "        if key in dict2.keys():\n",
        "            new_dict[key] = pd.concat([dict1[key], dict2[key]])\n",
        "        else:\n",
        "            new_dict[key] = dict1[key]\n",
        "    return new_dict\n",
        "\n",
        "def all_courses_info():  #возвращает словарь, где ключи -- названия таблиц, значения -- сами таблицы, для всех курсов\n",
        "    all_courses = {}\n",
        "    directory = os.fsencode(path)\n",
        "    for file in os.listdir(directory):\n",
        "        filename = os.fsdecode(file)\n",
        "        course = course_info(filename)\n",
        "        all_courses = dict_union(course, all_courses)\n",
        "    return all_courses\n",
        "\n",
        "all_courses_info = all_courses_info()"
      ],
      "metadata": {
        "id": "KrbdcpMby5PH"
      },
      "execution_count": null,
      "outputs": []
    },
    {
      "cell_type": "code",
      "source": [
        "tasks = all_courses_info['user_element_progress'][(all_courses_info['user_element_progress'][\"course_element_type\"] == \"task\") &\n",
        "                                                (all_courses_info['user_element_progress'][\"achieve_reason\"] != \"transferred\") &\n",
        "                                                (all_courses_info['user_element_progress'][\"course_id\"] != 1880)]"
      ],
      "metadata": {
        "id": "bLkY5lfQzP6n"
      },
      "execution_count": null,
      "outputs": []
    },
    {
      "cell_type": "markdown",
      "source": [
        "## trivial_module_metric\n",
        "\n",
        "для каждого пользователя посчитаем \"процент прохождения модуля\" -- отношение количества решенных задач к общему количеству задач в модуле, и усредним по всем пользователем"
      ],
      "metadata": {
        "id": "5eioqV4T2tKo"
      }
    },
    {
      "cell_type": "code",
      "source": [
        "modules = np.unique(np.array(tasks['course_module_id']))\n",
        "metric_values = []\n",
        "for module_id in modules:\n",
        "    if all_courses_info['course_module'][all_courses_info['course_module']['id'] == module_id]['is_advanced'].iloc[0]:\n",
        "        continue\n",
        "    tasks_module = tasks[tasks['course_module_id'] == module_id]\n",
        "    users = np.unique(np.array(tasks_module['user_id']))\n",
        "    percent_for_user = []\n",
        "    for user in users:\n",
        "        user_tasks = tasks_module[tasks_module['user_id'] == user]\n",
        "        achieved_tasks = user_tasks[user_tasks['is_achieved'] == True]\n",
        "        percent_for_user.append(len(achieved_tasks) / len(user_tasks))\n",
        "    metric_values.append(round(np.mean(percent_for_user), 2))"
      ],
      "metadata": {
        "id": "bF5fPCKwzZft"
      },
      "execution_count": null,
      "outputs": []
    },
    {
      "cell_type": "code",
      "source": [
        "metric_values = np.array(metric_values)\n",
        "metric_values_non_zero = metric_values[metric_values != 0]\n",
        "\n",
        "sns.histplot(metric_values_non_zero, bins = 10)"
      ],
      "metadata": {
        "colab": {
          "base_uri": "https://localhost:8080/",
          "height": 447
        },
        "id": "6zuiwqjvznQq",
        "outputId": "a48cf360-b347-4811-b779-b12abd4d5e44"
      },
      "execution_count": null,
      "outputs": [
        {
          "output_type": "execute_result",
          "data": {
            "text/plain": [
              "<Axes: ylabel='Count'>"
            ]
          },
          "metadata": {},
          "execution_count": 59
        },
        {
          "output_type": "display_data",
          "data": {
            "text/plain": [
              "<Figure size 640x480 with 1 Axes>"
            ],
            "image/png": "[encoded data removed]"
          },
          "metadata": {}
        }
      ]
    },
    {
      "cell_type": "code",
      "source": [
        "path = '/content/drive/MyDrive/Colab Notebooks/sirius courses/courses/courses/1038_1212_1316_1555_1738_1880'\n",
        "ml_course_info = {}\n",
        "directory = os.fsencode(path)\n",
        "for file in os.listdir(directory):\n",
        "    filename = os.fsdecode(file)\n",
        "    ml_course_info[filename[:-4]] = pd.read_csv(path + '/' + filename)"
      ],
      "metadata": {
        "id": "uta7IPYxpQa5"
      },
      "execution_count": null,
      "outputs": []
    },
    {
      "cell_type": "code",
      "source": [
        "ml_tasks = ml_course_info['user_element_progress'][(ml_course_info['user_element_progress'][\"course_element_type\"] == \"task\") &\n",
        "                                                (ml_course_info['user_element_progress'][\"achieve_reason\"] != \"transferred\") &\n",
        "                                                (ml_course_info['user_element_progress'][\"course_id\"] == 1555) ]"
      ],
      "metadata": {
        "id": "FrnhsG5Ppqzl"
      },
      "execution_count": null,
      "outputs": []
    },
    {
      "cell_type": "code",
      "source": [
        "def trivial_module_metric(threshold=0.3):\n",
        "    modules = np.unique(np.array(ml_tasks['course_module_id']))\n",
        "    metric_values = {}\n",
        "    for module_id in modules:\n",
        "        if ml_course_info['course_module'][ml_course_info['course_module']['id'] == module_id]['is_advanced'].iloc[0]:\n",
        "            continue\n",
        "        tasks_module = ml_tasks[ml_tasks['course_module_id'] == module_id]\n",
        "        users = np.unique(np.array(tasks_module['user_id']))\n",
        "        percent_for_user = []\n",
        "        for user in users:\n",
        "            user_tasks = tasks_module[tasks_module['user_id'] == user]\n",
        "            achieved_tasks = user_tasks[user_tasks['is_achieved'] == True]\n",
        "            percent_for_user.append(len(achieved_tasks) / len(user_tasks))\n",
        "        metric_values[module_id] = (round(np.mean(percent_for_user), 2), round(np.mean(percent_for_user), 2) < threshold)\n",
        "    return metric_values\n",
        "\n",
        "print(trivial_module_metric())"
      ],
      "metadata": {
        "colab": {
          "base_uri": "https://localhost:8080/"
        },
        "id": "3nrauakEzv1h",
        "outputId": "5b9de69b-0140-4a96-d2e4-5256b96bf578"
      },
      "execution_count": null,
      "outputs": [
        {
          "output_type": "stream",
          "name": "stdout",
          "text": [
            "{14585: (0.37, False), 14586: (0.37, False), 14587: (0.34, False), 14588: (0.33, False), 14589: (0.32, False), 14590: (0.37, False), 14591: (0.28, True), 14592: (0.26, True), 14593: (0.37, False), 14597: (0.31, False)}\n"
          ]
        }
      ]
    },
    {
      "cell_type": "markdown",
      "source": [
        "## average_tries_count\n",
        "\n",
        "для каждого пользователя посчитаем среднее количество попыток, затрачиваемое на задачу внутри модуля, и усредним по всем пользователям"
      ],
      "metadata": {
        "id": "ipsq5MAE3rfw"
      }
    },
    {
      "cell_type": "code",
      "source": [
        "modules = np.unique(np.array(tasks['course_module_id']))\n",
        "metric_values = []\n",
        "for module_id in modules:\n",
        "    if all_courses_info['course_module'][all_courses_info['course_module']['id'] == module_id]['is_advanced'].iloc[0]:\n",
        "        continue\n",
        "    tasks_module = tasks[tasks['course_module_id'] == module_id]\n",
        "    users = np.unique(np.array(tasks_module['user_id']))\n",
        "    avg_tries_for_user = []\n",
        "    for user in users:\n",
        "        user_tasks = tasks_module[(tasks_module['user_id'] == user) & (tasks_module['tries_count'] > 0)]\n",
        "        all_tries = np.array(user_tasks['tries_count']).sum()\n",
        "        if len(user_tasks) != 0:\n",
        "            avg_tries_for_user.append(all_tries / len(user_tasks))\n",
        "    metric_values.append(round(np.mean(avg_tries_for_user), 2))"
      ],
      "metadata": {
        "id": "egMpKHrk6T37"
      },
      "execution_count": null,
      "outputs": []
    },
    {
      "cell_type": "code",
      "source": [
        "metric_values = np.array(metric_values)\n",
        "metric_values_non_zero = metric_values[metric_values != 0]\n",
        "print(metric_values_non_zero)\n",
        "\n",
        "sns.histplot(metric_values_non_zero, bins = 50)"
      ],
      "metadata": {
        "colab": {
          "base_uri": "https://localhost:8080/",
          "height": 690
        },
        "id": "LdAFGpRK7--3",
        "outputId": "48f95475-60c9-4ebb-ed19-acdd2828e11a"
      },
      "execution_count": null,
      "outputs": [
        {
          "output_type": "stream",
          "name": "stdout",
          "text": [
            "[ 5.07  8.86  3.49  3.01  5.15  3.34  2.69  3.66  4.67  4.76  5.59  8.88\n",
            "  2.55  2.08  2.04  1.42  2.34  1.37  1.77  2.35  2.48  2.32  1.96  2.69\n",
            "  1.7   2.46  5.3   2.59  1.36  1.42  2.21  3.37  7.08  3.72  3.22  3.27\n",
            "  2.85  2.88  2.03  3.11  3.9   3.64  2.69  2.42  2.25  3.3   1.32  2.76\n",
            "  1.9   1.87  1.67  2.07  1.83  1.94  1.52  1.64  1.65  1.71  1.87  2.37\n",
            "  2.63  1.81  2.47  1.69  1.45  1.64  1.37  2.44  1.36  3.13  1.51  6.56\n",
            "  2.85  1.36  1.59  1.36  1.82  1.21  2.02  1.92  1.79  1.55  2.23  2.86\n",
            "  5.82  5.53  2.41  3.37  2.83 10.77 18.68  4.2   4.52  2.02  5.53  7.49\n",
            "  4.85  6.66  1.55  3.75  1.6   5.51  2.03  3.46  1.67  6.48  7.3   2.25\n",
            "  2.6   2.39  4.15  3.31  4.59  3.74  8.85  4.2   9.34  1.52  2.05  2.13\n",
            "  4.06  3.05  4.07  3.97  5.24  3.47  5.86  3.68  2.95  2.08  3.09  3.76\n",
            "  4.93  3.82  1.55  2.09  3.88  3.7   6.28  9.06  6.46  2.45  3.18  1.65\n",
            "  4.08  3.02  2.31  2.8   2.89  3.27  4.41  1.81  3.28  1.53  3.43  2.86\n",
            "  1.92]\n"
          ]
        },
        {
          "output_type": "execute_result",
          "data": {
            "text/plain": [
              "<Axes: ylabel='Count'>"
            ]
          },
          "metadata": {},
          "execution_count": 63
        },
        {
          "output_type": "display_data",
          "data": {
            "text/plain": [
              "<Figure size 640x480 with 1 Axes>"
            ],
            "image/png": "[encoded data removed]"
          },
          "metadata": {}
        }
      ]
    },
    {
      "cell_type": "code",
      "source": [
        "def average_tries_count(threshold=4):\n",
        "    modules = np.unique(np.array(ml_tasks['course_module_id']))\n",
        "    metric_values = {}\n",
        "    for module_id in modules:\n",
        "        if ml_course_info['course_module'][ml_course_info['course_module']['id'] == module_id]['is_advanced'].iloc[0]:\n",
        "            continue\n",
        "        tasks_module = ml_tasks[ml_tasks['course_module_id'] == module_id]\n",
        "        users = np.unique(np.array(tasks_module['user_id']))\n",
        "        avg_tries_for_user = []\n",
        "        for user in users:\n",
        "            user_tasks = tasks_module[(tasks_module['user_id'] == user) & (tasks_module['tries_count'] > 0)]\n",
        "            all_tries = np.array(user_tasks['tries_count']).sum()\n",
        "            if len(user_tasks) != 0:\n",
        "                avg_tries_for_user.append(all_tries / len(user_tasks))\n",
        "        metric_values[module_id] = (round(np.mean(avg_tries_for_user), 2), round(np.mean(avg_tries_for_user), 2) > threshold)\n",
        "    return metric_values\n",
        "\n",
        "print(average_tries_count())"
      ],
      "metadata": {
        "colab": {
          "base_uri": "https://localhost:8080/"
        },
        "id": "_LA6W9Cb8Vyo",
        "outputId": "e0f21f68-9292-461b-b8fa-d466e71264de"
      },
      "execution_count": null,
      "outputs": [
        {
          "output_type": "stream",
          "name": "stdout",
          "text": [
            "{14585: (3.7, False), 14586: (6.28, True), 14587: (9.06, True), 14588: (6.46, True), 14589: (2.45, False), 14590: (3.18, False), 14591: (1.65, False), 14592: (4.08, True), 14593: (3.02, False), 14597: (2.31, False)}\n"
          ]
        }
      ]
    }
  ]
}
